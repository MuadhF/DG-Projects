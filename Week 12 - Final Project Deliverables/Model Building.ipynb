{
 "cells": [
  {
   "cell_type": "markdown",
   "metadata": {},
   "source": [
    "# Data Information"
   ]
  },
  {
   "cell_type": "markdown",
   "metadata": {},
   "source": [
    "### Attribute information:\n",
    "\n",
    "Input variables:\n",
    "- age (numeric)\n",
    "- job : type of job (categorical: \"admin.\",\"unknown\",\"unemployed\",\"management\",\"housemaid\",\"entrepreneur\",\"student\",\"blue-collar\",\"self-employed\",\"retired\",\"technician\",\"services\") \n",
    "- marital : marital status (categorical: \"married\",\"divorced\",\"single\"; note: \"divorced\" means divorced or widowed)\n",
    "- education (categorical: \"unknown\",\"secondary\",\"primary\",\"tertiary\")\n",
    "- default: has credit in default? (binary: \"yes\",\"no\")\n",
    "- balance: average yearly balance, in euros (numeric) \n",
    "- housing: has housing loan? (binary: \"yes\",\"no\")\n",
    "- loan: has personal loan? (binary: \"yes\",\"no\")\n",
    "- contact: contact communication type (categorical: \"unknown\",\"telephone\",\"cellular\")\n",
    "- day: last contact day of the month (numeric)\n",
    "- month: last contact month of year (categorical: \"jan\", \"feb\", \"mar\", ..., \"nov\", \"dec\")\n",
    "- duration: last contact duration, in seconds (numeric)\n",
    "- campaign: number of contacts performed during this campaign and for this client (numeric, includes last contact)\n",
    "- pdays: number of days that passed by after the client was last contacted from a previous campaign (numeric, -1 means client was not previously contacted)\n",
    "- previous: number of contacts performed before this campaign and for this client (numeric)\n",
    "- poutcome: outcome of the previous marketing campaign (categorical: \"unknown\",\"other\",\"failure\",\"success\")\n",
    "   \n",
    "Output variable (desired target):\n",
    "- y: has the client subscribed a term deposit? (binary: \"yes\",\"no\")"
   ]
  },
  {
   "cell_type": "markdown",
   "metadata": {},
   "source": [
    "# Importing Libraries and Dataset"
   ]
  },
  {
   "cell_type": "code",
   "execution_count": 1,
   "metadata": {},
   "outputs": [],
   "source": [
    "import numpy as np\n",
    "import pandas as pd\n",
    "import matplotlib.pyplot as plt\n",
    "import seaborn as sns\n",
    "from sklearn.model_selection import train_test_split, StratifiedKFold, cross_val_score\n",
    "from sklearn.metrics import confusion_matrix, classification_report\n",
    "from sklearn.metrics import accuracy_score,precision_score,recall_score,f1_score\n",
    "from sklearn import metrics\n",
    "from sklearn import tree\n",
    "from sklearn.model_selection import GridSearchCV, RandomizedSearchCV\n",
    "from sklearn.ensemble import BaggingClassifier\n",
    "from sklearn.ensemble import RandomForestClassifier\n",
    "from sklearn.tree import DecisionTreeClassifier\n",
    "import scipy.stats as stats\n",
    "from sklearn.ensemble import GradientBoostingClassifier, StackingClassifier\n",
    "from xgboost import XGBClassifier\n",
    "import statsmodels.stats.api as sms\n",
    "from statsmodels.stats.outliers_influence import variance_inflation_factor\n",
    "import statsmodels.api as sm\n",
    "from statsmodels.tools.tools import add_constant\n",
    "from sklearn.metrics import roc_auc_score\n",
    "from sklearn.metrics import roc_curve\n",
    "from sklearn.metrics import precision_recall_curve\n",
    "sns.set()\n",
    "import warnings\n",
    "warnings.filterwarnings(\"ignore\")"
   ]
  },
  {
   "cell_type": "code",
   "execution_count": 2,
   "metadata": {},
   "outputs": [],
   "source": [
    "df = pd.read_csv(\"processed-data.csv\")"
   ]
  },
  {
   "cell_type": "code",
   "execution_count": 3,
   "metadata": {},
   "outputs": [
    {
     "data": {
      "text/html": [
       "<div>\n",
       "<style scoped>\n",
       "    .dataframe tbody tr th:only-of-type {\n",
       "        vertical-align: middle;\n",
       "    }\n",
       "\n",
       "    .dataframe tbody tr th {\n",
       "        vertical-align: top;\n",
       "    }\n",
       "\n",
       "    .dataframe thead th {\n",
       "        text-align: right;\n",
       "    }\n",
       "</style>\n",
       "<table border=\"1\" class=\"dataframe\">\n",
       "  <thead>\n",
       "    <tr style=\"text-align: right;\">\n",
       "      <th></th>\n",
       "      <th>age</th>\n",
       "      <th>job</th>\n",
       "      <th>marital</th>\n",
       "      <th>education</th>\n",
       "      <th>default</th>\n",
       "      <th>balance</th>\n",
       "      <th>housing</th>\n",
       "      <th>loan</th>\n",
       "      <th>contact</th>\n",
       "      <th>day</th>\n",
       "      <th>month</th>\n",
       "      <th>duration</th>\n",
       "      <th>campaign</th>\n",
       "      <th>pdays</th>\n",
       "      <th>previous</th>\n",
       "      <th>poutcome</th>\n",
       "      <th>y</th>\n",
       "    </tr>\n",
       "  </thead>\n",
       "  <tbody>\n",
       "    <tr>\n",
       "      <th>0</th>\n",
       "      <td>58</td>\n",
       "      <td>management</td>\n",
       "      <td>married</td>\n",
       "      <td>tertiary</td>\n",
       "      <td>no</td>\n",
       "      <td>2143</td>\n",
       "      <td>yes</td>\n",
       "      <td>no</td>\n",
       "      <td>unknown</td>\n",
       "      <td>5</td>\n",
       "      <td>may</td>\n",
       "      <td>261</td>\n",
       "      <td>1</td>\n",
       "      <td>-1</td>\n",
       "      <td>0</td>\n",
       "      <td>not applicable</td>\n",
       "      <td>no</td>\n",
       "    </tr>\n",
       "    <tr>\n",
       "      <th>1</th>\n",
       "      <td>44</td>\n",
       "      <td>technician</td>\n",
       "      <td>single</td>\n",
       "      <td>secondary</td>\n",
       "      <td>no</td>\n",
       "      <td>29</td>\n",
       "      <td>yes</td>\n",
       "      <td>no</td>\n",
       "      <td>unknown</td>\n",
       "      <td>5</td>\n",
       "      <td>may</td>\n",
       "      <td>151</td>\n",
       "      <td>1</td>\n",
       "      <td>-1</td>\n",
       "      <td>0</td>\n",
       "      <td>not applicable</td>\n",
       "      <td>no</td>\n",
       "    </tr>\n",
       "    <tr>\n",
       "      <th>2</th>\n",
       "      <td>33</td>\n",
       "      <td>entrepreneur</td>\n",
       "      <td>married</td>\n",
       "      <td>secondary</td>\n",
       "      <td>no</td>\n",
       "      <td>2</td>\n",
       "      <td>yes</td>\n",
       "      <td>yes</td>\n",
       "      <td>unknown</td>\n",
       "      <td>5</td>\n",
       "      <td>may</td>\n",
       "      <td>76</td>\n",
       "      <td>1</td>\n",
       "      <td>-1</td>\n",
       "      <td>0</td>\n",
       "      <td>not applicable</td>\n",
       "      <td>no</td>\n",
       "    </tr>\n",
       "    <tr>\n",
       "      <th>3</th>\n",
       "      <td>47</td>\n",
       "      <td>blue-collar</td>\n",
       "      <td>married</td>\n",
       "      <td>unknown</td>\n",
       "      <td>no</td>\n",
       "      <td>1506</td>\n",
       "      <td>yes</td>\n",
       "      <td>no</td>\n",
       "      <td>unknown</td>\n",
       "      <td>5</td>\n",
       "      <td>may</td>\n",
       "      <td>92</td>\n",
       "      <td>1</td>\n",
       "      <td>-1</td>\n",
       "      <td>0</td>\n",
       "      <td>not applicable</td>\n",
       "      <td>no</td>\n",
       "    </tr>\n",
       "    <tr>\n",
       "      <th>4</th>\n",
       "      <td>33</td>\n",
       "      <td>unknown</td>\n",
       "      <td>single</td>\n",
       "      <td>unknown</td>\n",
       "      <td>no</td>\n",
       "      <td>1</td>\n",
       "      <td>no</td>\n",
       "      <td>no</td>\n",
       "      <td>unknown</td>\n",
       "      <td>5</td>\n",
       "      <td>may</td>\n",
       "      <td>198</td>\n",
       "      <td>1</td>\n",
       "      <td>-1</td>\n",
       "      <td>0</td>\n",
       "      <td>not applicable</td>\n",
       "      <td>no</td>\n",
       "    </tr>\n",
       "    <tr>\n",
       "      <th>...</th>\n",
       "      <td>...</td>\n",
       "      <td>...</td>\n",
       "      <td>...</td>\n",
       "      <td>...</td>\n",
       "      <td>...</td>\n",
       "      <td>...</td>\n",
       "      <td>...</td>\n",
       "      <td>...</td>\n",
       "      <td>...</td>\n",
       "      <td>...</td>\n",
       "      <td>...</td>\n",
       "      <td>...</td>\n",
       "      <td>...</td>\n",
       "      <td>...</td>\n",
       "      <td>...</td>\n",
       "      <td>...</td>\n",
       "      <td>...</td>\n",
       "    </tr>\n",
       "    <tr>\n",
       "      <th>45206</th>\n",
       "      <td>51</td>\n",
       "      <td>technician</td>\n",
       "      <td>married</td>\n",
       "      <td>tertiary</td>\n",
       "      <td>no</td>\n",
       "      <td>825</td>\n",
       "      <td>no</td>\n",
       "      <td>no</td>\n",
       "      <td>cellular</td>\n",
       "      <td>17</td>\n",
       "      <td>nov</td>\n",
       "      <td>977</td>\n",
       "      <td>3</td>\n",
       "      <td>-1</td>\n",
       "      <td>0</td>\n",
       "      <td>not applicable</td>\n",
       "      <td>yes</td>\n",
       "    </tr>\n",
       "    <tr>\n",
       "      <th>45207</th>\n",
       "      <td>71</td>\n",
       "      <td>retired</td>\n",
       "      <td>divorced</td>\n",
       "      <td>primary</td>\n",
       "      <td>no</td>\n",
       "      <td>1729</td>\n",
       "      <td>no</td>\n",
       "      <td>no</td>\n",
       "      <td>cellular</td>\n",
       "      <td>17</td>\n",
       "      <td>nov</td>\n",
       "      <td>456</td>\n",
       "      <td>2</td>\n",
       "      <td>-1</td>\n",
       "      <td>0</td>\n",
       "      <td>not applicable</td>\n",
       "      <td>yes</td>\n",
       "    </tr>\n",
       "    <tr>\n",
       "      <th>45208</th>\n",
       "      <td>72</td>\n",
       "      <td>retired</td>\n",
       "      <td>married</td>\n",
       "      <td>secondary</td>\n",
       "      <td>no</td>\n",
       "      <td>5715</td>\n",
       "      <td>no</td>\n",
       "      <td>no</td>\n",
       "      <td>cellular</td>\n",
       "      <td>17</td>\n",
       "      <td>nov</td>\n",
       "      <td>1127</td>\n",
       "      <td>5</td>\n",
       "      <td>184</td>\n",
       "      <td>3</td>\n",
       "      <td>success</td>\n",
       "      <td>yes</td>\n",
       "    </tr>\n",
       "    <tr>\n",
       "      <th>45209</th>\n",
       "      <td>57</td>\n",
       "      <td>blue-collar</td>\n",
       "      <td>married</td>\n",
       "      <td>secondary</td>\n",
       "      <td>no</td>\n",
       "      <td>668</td>\n",
       "      <td>no</td>\n",
       "      <td>no</td>\n",
       "      <td>telephone</td>\n",
       "      <td>17</td>\n",
       "      <td>nov</td>\n",
       "      <td>508</td>\n",
       "      <td>4</td>\n",
       "      <td>-1</td>\n",
       "      <td>0</td>\n",
       "      <td>not applicable</td>\n",
       "      <td>no</td>\n",
       "    </tr>\n",
       "    <tr>\n",
       "      <th>45210</th>\n",
       "      <td>37</td>\n",
       "      <td>entrepreneur</td>\n",
       "      <td>married</td>\n",
       "      <td>secondary</td>\n",
       "      <td>no</td>\n",
       "      <td>2971</td>\n",
       "      <td>no</td>\n",
       "      <td>no</td>\n",
       "      <td>cellular</td>\n",
       "      <td>17</td>\n",
       "      <td>nov</td>\n",
       "      <td>361</td>\n",
       "      <td>2</td>\n",
       "      <td>188</td>\n",
       "      <td>11</td>\n",
       "      <td>other</td>\n",
       "      <td>no</td>\n",
       "    </tr>\n",
       "  </tbody>\n",
       "</table>\n",
       "<p>45211 rows × 17 columns</p>\n",
       "</div>"
      ],
      "text/plain": [
       "       age           job   marital  education default  balance housing loan  \\\n",
       "0       58    management   married   tertiary      no     2143     yes   no   \n",
       "1       44    technician    single  secondary      no       29     yes   no   \n",
       "2       33  entrepreneur   married  secondary      no        2     yes  yes   \n",
       "3       47   blue-collar   married    unknown      no     1506     yes   no   \n",
       "4       33       unknown    single    unknown      no        1      no   no   \n",
       "...    ...           ...       ...        ...     ...      ...     ...  ...   \n",
       "45206   51    technician   married   tertiary      no      825      no   no   \n",
       "45207   71       retired  divorced    primary      no     1729      no   no   \n",
       "45208   72       retired   married  secondary      no     5715      no   no   \n",
       "45209   57   blue-collar   married  secondary      no      668      no   no   \n",
       "45210   37  entrepreneur   married  secondary      no     2971      no   no   \n",
       "\n",
       "         contact  day month  duration  campaign  pdays  previous  \\\n",
       "0        unknown    5   may       261         1     -1         0   \n",
       "1        unknown    5   may       151         1     -1         0   \n",
       "2        unknown    5   may        76         1     -1         0   \n",
       "3        unknown    5   may        92         1     -1         0   \n",
       "4        unknown    5   may       198         1     -1         0   \n",
       "...          ...  ...   ...       ...       ...    ...       ...   \n",
       "45206   cellular   17   nov       977         3     -1         0   \n",
       "45207   cellular   17   nov       456         2     -1         0   \n",
       "45208   cellular   17   nov      1127         5    184         3   \n",
       "45209  telephone   17   nov       508         4     -1         0   \n",
       "45210   cellular   17   nov       361         2    188        11   \n",
       "\n",
       "             poutcome    y  \n",
       "0      not applicable   no  \n",
       "1      not applicable   no  \n",
       "2      not applicable   no  \n",
       "3      not applicable   no  \n",
       "4      not applicable   no  \n",
       "...               ...  ...  \n",
       "45206  not applicable  yes  \n",
       "45207  not applicable  yes  \n",
       "45208         success  yes  \n",
       "45209  not applicable   no  \n",
       "45210           other   no  \n",
       "\n",
       "[45211 rows x 17 columns]"
      ]
     },
     "execution_count": 3,
     "metadata": {},
     "output_type": "execute_result"
    }
   ],
   "source": [
    "df"
   ]
  },
  {
   "cell_type": "code",
   "execution_count": 4,
   "metadata": {},
   "outputs": [
    {
     "name": "stdout",
     "output_type": "stream",
     "text": [
      "<class 'pandas.core.frame.DataFrame'>\n",
      "RangeIndex: 45211 entries, 0 to 45210\n",
      "Data columns (total 17 columns):\n",
      " #   Column     Non-Null Count  Dtype \n",
      "---  ------     --------------  ----- \n",
      " 0   age        45211 non-null  int64 \n",
      " 1   job        45211 non-null  object\n",
      " 2   marital    45211 non-null  object\n",
      " 3   education  45211 non-null  object\n",
      " 4   default    45211 non-null  object\n",
      " 5   balance    45211 non-null  int64 \n",
      " 6   housing    45211 non-null  object\n",
      " 7   loan       45211 non-null  object\n",
      " 8   contact    45211 non-null  object\n",
      " 9   day        45211 non-null  int64 \n",
      " 10  month      45211 non-null  object\n",
      " 11  duration   45211 non-null  int64 \n",
      " 12  campaign   45211 non-null  int64 \n",
      " 13  pdays      45211 non-null  int64 \n",
      " 14  previous   45211 non-null  int64 \n",
      " 15  poutcome   45211 non-null  object\n",
      " 16  y          45211 non-null  object\n",
      "dtypes: int64(7), object(10)\n",
      "memory usage: 5.9+ MB\n"
     ]
    }
   ],
   "source": [
    "df.info()"
   ]
  },
  {
   "cell_type": "markdown",
   "metadata": {},
   "source": [
    "# Preprocessing"
   ]
  },
  {
   "cell_type": "markdown",
   "metadata": {},
   "source": [
    "### Converting to categorical"
   ]
  },
  {
   "cell_type": "code",
   "execution_count": 5,
   "metadata": {},
   "outputs": [],
   "source": [
    "# Converting all object variables to categorical variables\n",
    "\n",
    "cols = ['job', 'marital', 'education', 'default', 'housing',\n",
    "       'loan', 'contact', 'month', 'poutcome', 'y']\n",
    "\n",
    "for col in cols:\n",
    "    df[col] = df[col].astype('category')"
   ]
  },
  {
   "cell_type": "markdown",
   "metadata": {},
   "source": [
    "### Changing y to binary"
   ]
  },
  {
   "cell_type": "code",
   "execution_count": 6,
   "metadata": {},
   "outputs": [],
   "source": [
    "# changing y to binary - 0 and 1\n",
    "ymap = {'no': 0, 'yes': 1}\n",
    "\n",
    "df.replace({'y':ymap}, inplace = True)"
   ]
  },
  {
   "cell_type": "markdown",
   "metadata": {},
   "source": [
    "### Dummy variables"
   ]
  },
  {
   "cell_type": "code",
   "execution_count": 7,
   "metadata": {},
   "outputs": [],
   "source": [
    "X = df.drop(['y'], axis=1)\n",
    "y = df['y']\n",
    "\n",
    "X = pd.get_dummies(X, columns=['job', 'marital', 'education', 'default', 'housing',\n",
    "       'loan', 'contact', 'month', 'poutcome'], drop_first=True)"
   ]
  },
  {
   "cell_type": "markdown",
   "metadata": {},
   "source": [
    "### Splitting the dataset"
   ]
  },
  {
   "cell_type": "code",
   "execution_count": 8,
   "metadata": {},
   "outputs": [],
   "source": [
    "#Splitting data in train and test sets\n",
    "X_train, X_test, y_train, y_test = train_test_split(X, y, test_size=0.30, random_state = 1, stratify=y)"
   ]
  },
  {
   "cell_type": "code",
   "execution_count": 9,
   "metadata": {},
   "outputs": [
    {
     "data": {
      "text/plain": [
       "0    0.883022\n",
       "1    0.116978\n",
       "Name: y, dtype: float64"
      ]
     },
     "execution_count": 9,
     "metadata": {},
     "output_type": "execute_result"
    }
   ],
   "source": [
    "y_train.value_counts(1)"
   ]
  },
  {
   "cell_type": "code",
   "execution_count": 10,
   "metadata": {},
   "outputs": [
    {
     "data": {
      "text/plain": [
       "0    0.882999\n",
       "1    0.117001\n",
       "Name: y, dtype: float64"
      ]
     },
     "execution_count": 10,
     "metadata": {},
     "output_type": "execute_result"
    }
   ],
   "source": [
    "y_test.value_counts(1)"
   ]
  },
  {
   "cell_type": "markdown",
   "metadata": {},
   "source": [
    "#### The splits are quite balanced in terms of 1s and 0s."
   ]
  },
  {
   "cell_type": "markdown",
   "metadata": {},
   "source": [
    "# Model Evaluation Criteria"
   ]
  },
  {
   "cell_type": "markdown",
   "metadata": {},
   "source": [
    "#### The incorrect predictions are the following:\n",
    "- Customer predicted to buy, but actually doesn't buy (Type I).\n",
    "- Customer predicted to not buy, but actually buys (Type II).\n",
    "<br><br>\n",
    "The more costly error is the type II error, as the bank would not market the product to this customer, and fail to make a sale because the customer would have in reality bought the product.<br><br>\n",
    "Type I errors will make the bank focus on customers that would not buy the product, so it is not too much of a cost except for the time and effort put into these customers."
   ]
  },
  {
   "cell_type": "markdown",
   "metadata": {},
   "source": [
    "#### Therefore, we will need to identify as much potential customers as possible, so recall will be the ideal metric to use for evaluation."
   ]
  },
  {
   "cell_type": "markdown",
   "metadata": {},
   "source": [
    "#### Note: I will be using 0.05 as the value of alpha"
   ]
  },
  {
   "cell_type": "markdown",
   "metadata": {},
   "source": [
    "### Creating functions to calculate metrics"
   ]
  },
  {
   "cell_type": "code",
   "execution_count": 11,
   "metadata": {},
   "outputs": [],
   "source": [
    "##  Function to calculate different metric scores of the model - Accuracy, Recall and Precision\n",
    "def get_metrics_score(model,train,test,train_y,test_y,flag=True):\n",
    "    '''\n",
    "    model : classifier to predict values of X\n",
    "\n",
    "    '''\n",
    "    # defining an empty list to store train and test results\n",
    "    \n",
    "    score_list=[] \n",
    "    \n",
    "    pred_train = model.predict(train)\n",
    "    pred_test = model.predict(test)\n",
    "    \n",
    "    pred_train = np.round(pred_train)\n",
    "    pred_test = np.round(pred_test)\n",
    "    \n",
    "    train_acc = accuracy_score(pred_train,train_y)\n",
    "    test_acc = accuracy_score(pred_test,test_y)\n",
    "    \n",
    "    train_recall = recall_score(train_y,pred_train)\n",
    "    test_recall = recall_score(test_y,pred_test)\n",
    "    \n",
    "    train_precision = precision_score(train_y,pred_train)\n",
    "    test_precision = precision_score(test_y,pred_test)\n",
    "    \n",
    "    score_list.extend((train_acc,test_acc,train_recall,test_recall,train_precision,test_precision))\n",
    "        \n",
    "   # If the flag is set to True then only the following print statements will be dispayed. The default value is set to True.\n",
    "    \n",
    "    if flag == True: \n",
    "        print(\"Accuracy on training set : \",accuracy_score(pred_train,train_y))\n",
    "        print(\"Accuracy on test set : \",accuracy_score(pred_test,test_y))\n",
    "        print(\"Recall on training set : \",recall_score(train_y,pred_train))\n",
    "        print(\"Recall on test set : \",recall_score(test_y,pred_test))\n",
    "        print(\"Precision on training set : \",precision_score(train_y,pred_train))\n",
    "        print(\"Precision on test set : \",precision_score(test_y,pred_test))\n",
    "    return score_list # returning the list with train and test scores"
   ]
  },
  {
   "cell_type": "code",
   "execution_count": 12,
   "metadata": {},
   "outputs": [],
   "source": [
    "## Function to create confusion matrix\n",
    "def make_confusion_matrix(model,y_actual,labels=[1, 0]):\n",
    "    '''\n",
    "    model : classifier to predict values of X\n",
    "    y_actual : ground truth  \n",
    "    \n",
    "    '''\n",
    "    y_predict = model.predict(X_test)\n",
    "    cm=metrics.confusion_matrix( y_actual, y_predict, labels=[0, 1])\n",
    "    df_cm = pd.DataFrame(cm, index = [i for i in [\"Actual - No\",\"Actual - Yes\"]],\n",
    "                  columns = [i for i in ['Predicted - No','Predicted - Yes']])\n",
    "    group_counts = [\"{0:0.0f}\".format(value) for value in\n",
    "                cm.flatten()]\n",
    "    group_percentages = [\"{0:.2%}\".format(value) for value in\n",
    "                         cm.flatten()/np.sum(cm)]\n",
    "    labels = [f\"{v1}\\n{v2}\" for v1, v2 in\n",
    "              zip(group_counts,group_percentages)]\n",
    "    labels = np.asarray(labels).reshape(2,2)\n",
    "    plt.figure(figsize = (9,6))\n",
    "    sns.heatmap(df_cm, annot=labels,fmt='')\n",
    "    plt.ylabel('True label')\n",
    "    plt.xlabel('Predicted label')"
   ]
  },
  {
   "cell_type": "markdown",
   "metadata": {},
   "source": [
    "# Model Building"
   ]
  },
  {
   "cell_type": "markdown",
   "metadata": {},
   "source": [
    "#### I will create the following models:\n",
    "- Linear Regression Model\n",
    "- Decision Tree Model\n",
    "- Random Forest Model\n",
    "- Gradient Boost Model\n",
    "- XGBoost Model\n",
    "- Stacking Classifier\n",
    "\n",
    "<br> I will also use GridSearch and RandomSearch to find even better models."
   ]
  },
  {
   "cell_type": "markdown",
   "metadata": {},
   "source": [
    "## Logistic Regression"
   ]
  },
  {
   "cell_type": "markdown",
   "metadata": {},
   "source": [
    "### Checking for multicollinearity"
   ]
  },
  {
   "cell_type": "code",
   "execution_count": 13,
   "metadata": {},
   "outputs": [],
   "source": [
    "# Creating a copy of the X_train and adding a constant\n",
    "num_feature_set = X_train.copy()\n",
    "num_feature_set = add_constant(num_feature_set)\n",
    "num_feature_set = num_feature_set.astype(float)"
   ]
  },
  {
   "cell_type": "code",
   "execution_count": 14,
   "metadata": {
    "scrolled": true
   },
   "outputs": [
    {
     "name": "stdout",
     "output_type": "stream",
     "text": [
      "Series before feature selection: \n",
      "\n",
      "const                      127.276285\n",
      "age                          1.732468\n",
      "balance                      1.053588\n",
      "day                          1.344094\n",
      "duration                     1.019660\n",
      "campaign                     1.122336\n",
      "pdays                        4.687674\n",
      "previous                     1.689970\n",
      "job_blue-collar              2.496573\n",
      "job_entrepreneur             1.308116\n",
      "job_housemaid                1.283562\n",
      "job_management               3.017224\n",
      "job_retired                  1.716929\n",
      "job_self-employed            1.317499\n",
      "job_services                 1.639845\n",
      "job_student                  1.253499\n",
      "job_technician               2.113486\n",
      "job_unemployed               1.245403\n",
      "job_unknown                  1.095869\n",
      "marital_married              2.552594\n",
      "marital_single               2.908381\n",
      "education_secondary          2.619853\n",
      "education_tertiary           3.402284\n",
      "education_unknown            1.310971\n",
      "default_yes                  1.014731\n",
      "housing_yes                  1.463417\n",
      "loan_yes                     1.058660\n",
      "contact_telephone            1.095026\n",
      "contact_unknown              2.432219\n",
      "month_aug                    3.161438\n",
      "month_dec                    1.086277\n",
      "month_feb                    1.998888\n",
      "month_jan                    1.509507\n",
      "month_jul                    3.105670\n",
      "month_jun                    3.523730\n",
      "month_mar                    1.179433\n",
      "month_may                    4.832610\n",
      "month_nov                    2.233335\n",
      "month_oct                    1.275871\n",
      "month_sep                    1.225673\n",
      "poutcome_not applicable      6.562894\n",
      "poutcome_other               1.361189\n",
      "poutcome_success             1.413973\n",
      "dtype: float64\n",
      "\n"
     ]
    }
   ],
   "source": [
    "# Checking VIF scores\n",
    "\n",
    "vif_series1 = pd.Series([variance_inflation_factor(num_feature_set.values,i) for i in range(num_feature_set.shape[1])],index=num_feature_set.columns, dtype = float)\n",
    "print('Series before feature selection: \\n\\n{}\\n'.format(vif_series1))"
   ]
  },
  {
   "cell_type": "markdown",
   "metadata": {},
   "source": [
    "#### There are no features that show multicollinearity, which is great. We can now proceed to building the model."
   ]
  },
  {
   "cell_type": "markdown",
   "metadata": {},
   "source": [
    "### Creating model"
   ]
  },
  {
   "cell_type": "code",
   "execution_count": 15,
   "metadata": {},
   "outputs": [],
   "source": [
    "# adding constant to training and test set\n",
    "\n",
    "X_train_lg = sm.add_constant(X_train)\n",
    "X_test_lg = sm.add_constant(X_test)"
   ]
  },
  {
   "cell_type": "code",
   "execution_count": 16,
   "metadata": {
    "scrolled": true
   },
   "outputs": [
    {
     "name": "stdout",
     "output_type": "stream",
     "text": [
      "Optimization terminated successfully.\n",
      "         Current function value: 0.236500\n",
      "         Iterations 8\n",
      "                             Results: Logit\n",
      "========================================================================\n",
      "Model:                 Logit              Pseudo R-squared:   0.345     \n",
      "Dependent Variable:    y                  AIC:                15055.0485\n",
      "Date:                  2021-08-13 23:19   BIC:                15414.6317\n",
      "No. Observations:      31647              Log-Likelihood:     -7484.5   \n",
      "Df Model:              42                 LL-Null:            -11420.   \n",
      "Df Residuals:          31604              LLR p-value:        0.0000    \n",
      "Converged:             1.0000             Scale:              1.0000    \n",
      "No. Iterations:        8.0000                                           \n",
      "------------------------------------------------------------------------\n",
      "                         Coef.  Std.Err.    z     P>|z|   [0.025  0.975]\n",
      "------------------------------------------------------------------------\n",
      "const                   -2.7602   0.2238 -12.3317 0.0000 -3.1989 -2.3215\n",
      "age                     -0.0027   0.0027  -1.0158 0.3097 -0.0079  0.0025\n",
      "balance                  0.0000   0.0000   1.7643 0.0777 -0.0000  0.0000\n",
      "day                      0.0082   0.0030   2.7131 0.0067  0.0023  0.0141\n",
      "duration                 0.0043   0.0001  54.7704 0.0000  0.0041  0.0044\n",
      "campaign                -0.0791   0.0118  -6.6800 0.0000 -0.1024 -0.0559\n",
      "pdays                    0.0005   0.0004   1.3542 0.1757 -0.0002  0.0012\n",
      "previous                 0.0189   0.0114   1.6547 0.0980 -0.0035  0.0413\n",
      "job_blue-collar         -0.2496   0.0871  -2.8648 0.0042 -0.4203 -0.0788\n",
      "job_entrepreneur        -0.2842   0.1485  -1.9139 0.0556 -0.5752  0.0068\n",
      "job_housemaid           -0.4650   0.1700  -2.7346 0.0062 -0.7983 -0.1317\n",
      "job_management          -0.0679   0.0880  -0.7719 0.4402 -0.2404  0.1045\n",
      "job_retired              0.4197   0.1162   3.6112 0.0003  0.1919  0.6474\n",
      "job_self-employed       -0.2812   0.1370  -2.0531 0.0401 -0.5496 -0.0128\n",
      "job_services            -0.2633   0.1032  -2.5517 0.0107 -0.4656 -0.0611\n",
      "job_student              0.4531   0.1315   3.4470 0.0006  0.1955  0.7108\n",
      "job_technician          -0.1149   0.0830  -1.3841 0.1663 -0.2776  0.0478\n",
      "job_unemployed          -0.1427   0.1337  -1.0675 0.2858 -0.4047  0.1193\n",
      "job_unknown             -0.3241   0.2866  -1.1308 0.2581 -0.8858  0.2376\n",
      "marital_married         -0.1268   0.0719  -1.7639 0.0777 -0.2677  0.0141\n",
      "marital_single           0.1140   0.0822   1.3873 0.1653 -0.0471  0.2750\n",
      "education_secondary      0.2098   0.0779   2.6951 0.0070  0.0572  0.3625\n",
      "education_tertiary       0.3875   0.0904   4.2867 0.0000  0.2103  0.5647\n",
      "education_unknown        0.2504   0.1253   1.9983 0.0457  0.0048  0.4961\n",
      "default_yes             -0.0885   0.1958  -0.4521 0.6512 -0.4724  0.2953\n",
      "housing_yes             -0.6813   0.0529 -12.8719 0.0000 -0.7851 -0.5776\n",
      "loan_yes                -0.4152   0.0723  -5.7465 0.0000 -0.5568 -0.2736\n",
      "contact_telephone       -0.2230   0.0921  -2.4216 0.0155 -0.4034 -0.0425\n",
      "contact_unknown         -1.5978   0.0869 -18.3770 0.0000 -1.7682 -1.4274\n",
      "month_aug               -0.7159   0.0946  -7.5679 0.0000 -0.9013 -0.5305\n",
      "month_dec                0.6419   0.2119   3.0300 0.0024  0.2267  1.0572\n",
      "month_feb               -0.1064   0.1070  -0.9946 0.3199 -0.3160  0.1033\n",
      "month_jan               -1.2294   0.1477  -8.3223 0.0000 -1.5189 -0.9399\n",
      "month_jul               -0.8772   0.0935  -9.3852 0.0000 -1.0604 -0.6940\n",
      "month_jun                0.4863   0.1119   4.3447 0.0000  0.2669  0.7057\n",
      "month_mar                1.6100   0.1435  11.2193 0.0000  1.3287  1.8913\n",
      "month_may               -0.3865   0.0870  -4.4400 0.0000 -0.5571 -0.2159\n",
      "month_nov               -0.7841   0.1012  -7.7471 0.0000 -0.9825 -0.5858\n",
      "month_oct                0.8436   0.1312   6.4296 0.0000  0.5865  1.1008\n",
      "month_sep                0.9833   0.1449   6.7866 0.0000  0.6993  1.2673\n",
      "poutcome_not applicable  0.0993   0.1174   0.8463 0.3974 -0.1307  0.3294\n",
      "poutcome_other           0.2342   0.1082   2.1649 0.0304  0.0222  0.4463\n",
      "poutcome_success         2.3792   0.1000  23.7930 0.0000  2.1832  2.5752\n",
      "========================================================================\n",
      "\n"
     ]
    }
   ],
   "source": [
    "logit = sm.Logit(y_train, X_train_lg)\n",
    "\n",
    "lg = logit.fit()\n",
    "\n",
    "print(lg.summary2())"
   ]
  },
  {
   "cell_type": "code",
   "execution_count": 17,
   "metadata": {},
   "outputs": [
    {
     "name": "stdout",
     "output_type": "stream",
     "text": [
      "Accuracy on training set :  0.9033715676051443\n",
      "Accuracy on test set :  0.8998083161309348\n",
      "Recall on training set :  0.3565640194489465\n",
      "Recall on test set :  0.3408947700063012\n",
      "Precision on training set :  0.6613226452905812\n",
      "Precision on test set :  0.6334894613583139\n"
     ]
    }
   ],
   "source": [
    "metrics_lg = get_metrics_score(lg,X_train_lg,X_test_lg,y_train,y_test,flag=True)"
   ]
  },
  {
   "cell_type": "markdown",
   "metadata": {},
   "source": [
    "#### The accuracy is quite high, with no overfitting, but recall is very low. I will start dropping insignificant variables."
   ]
  },
  {
   "cell_type": "code",
   "execution_count": 18,
   "metadata": {},
   "outputs": [],
   "source": [
    "X_train_lg2 = X_train_lg.drop('age', axis=1)\n",
    "X_test_lg2 = X_test_lg.drop('age', axis=1)"
   ]
  },
  {
   "cell_type": "code",
   "execution_count": 19,
   "metadata": {
    "scrolled": true
   },
   "outputs": [
    {
     "name": "stdout",
     "output_type": "stream",
     "text": [
      "Optimization terminated successfully.\n",
      "         Current function value: 0.236517\n",
      "         Iterations 8\n",
      "                             Results: Logit\n",
      "========================================================================\n",
      "Model:                 Logit              Pseudo R-squared:   0.345     \n",
      "Dependent Variable:    y                  AIC:                15054.0817\n",
      "Date:                  2021-08-13 23:19   BIC:                15405.3024\n",
      "No. Observations:      31647              Log-Likelihood:     -7485.0   \n",
      "Df Model:              41                 LL-Null:            -11420.   \n",
      "Df Residuals:          31605              LLR p-value:        0.0000    \n",
      "Converged:             1.0000             Scale:              1.0000    \n",
      "No. Iterations:        8.0000                                           \n",
      "------------------------------------------------------------------------\n",
      "                         Coef.  Std.Err.    z     P>|z|   [0.025  0.975]\n",
      "------------------------------------------------------------------------\n",
      "const                   -2.8889   0.1847 -15.6402 0.0000 -3.2509 -2.5269\n",
      "balance                  0.0000   0.0000   1.6937 0.0903 -0.0000  0.0000\n",
      "day                      0.0082   0.0030   2.7068 0.0068  0.0023  0.0141\n",
      "duration                 0.0043   0.0001  54.7698 0.0000  0.0041  0.0044\n",
      "campaign                -0.0792   0.0119  -6.6790 0.0000 -0.1024 -0.0559\n",
      "pdays                    0.0005   0.0004   1.3626 0.1730 -0.0002  0.0012\n",
      "previous                 0.0188   0.0114   1.6463 0.0997 -0.0036  0.0412\n",
      "job_blue-collar         -0.2465   0.0870  -2.8316 0.0046 -0.4171 -0.0759\n",
      "job_entrepreneur        -0.2891   0.1484  -1.9482 0.0514 -0.5800  0.0017\n",
      "job_housemaid           -0.4804   0.1696  -2.8334 0.0046 -0.8128 -0.1481\n",
      "job_management          -0.0706   0.0880  -0.8023 0.4224 -0.2429  0.1018\n",
      "job_retired              0.3678   0.1044   3.5217 0.0004  0.1631  0.5725\n",
      "job_self-employed       -0.2827   0.1369  -2.0647 0.0390 -0.5511 -0.0143\n",
      "job_services            -0.2614   0.1032  -2.5339 0.0113 -0.4636 -0.0592\n",
      "job_student              0.4785   0.1291   3.7077 0.0002  0.2256  0.7314\n",
      "job_technician          -0.1150   0.0830  -1.3849 0.1661 -0.2776  0.0477\n",
      "job_unemployed          -0.1447   0.1337  -1.0821 0.2792 -0.4067  0.1174\n",
      "job_unknown             -0.3396   0.2863  -1.1862 0.2356 -0.9007  0.2215\n",
      "marital_married         -0.1198   0.0716  -1.6733 0.0943 -0.2601  0.0205\n",
      "marital_single           0.1435   0.0769   1.8667 0.0619 -0.0072  0.2942\n",
      "education_secondary      0.2169   0.0776   2.7967 0.0052  0.0649  0.3689\n",
      "education_tertiary       0.3976   0.0898   4.4252 0.0000  0.2215  0.5737\n",
      "education_unknown        0.2493   0.1253   1.9896 0.0466  0.0037  0.4949\n",
      "default_yes             -0.0874   0.1959  -0.4464 0.6553 -0.4713  0.2965\n",
      "housing_yes             -0.6762   0.0527 -12.8337 0.0000 -0.7794 -0.5729\n",
      "loan_yes                -0.4138   0.0722  -5.7284 0.0000 -0.5553 -0.2722\n",
      "contact_telephone       -0.2368   0.0911  -2.5988 0.0094 -0.4154 -0.0582\n",
      "contact_unknown         -1.6001   0.0869 -18.4080 0.0000 -1.7705 -1.4298\n",
      "month_aug               -0.7197   0.0945  -7.6162 0.0000 -0.9050 -0.5345\n",
      "month_dec                0.6397   0.2118   3.0204 0.0025  0.2246  1.0548\n",
      "month_feb               -0.1081   0.1069  -1.0105 0.3122 -0.3177  0.1015\n",
      "month_jan               -1.2291   0.1477  -8.3208 0.0000 -1.5186 -0.9396\n",
      "month_jul               -0.8768   0.0935  -9.3825 0.0000 -1.0600 -0.6937\n",
      "month_jun                0.4855   0.1119   4.3369 0.0000  0.2661  0.7049\n",
      "month_mar                1.6065   0.1435  11.1987 0.0000  1.3254  1.8877\n",
      "month_may               -0.3856   0.0870  -4.4307 0.0000 -0.5562 -0.2150\n",
      "month_nov               -0.7865   0.1012  -7.7737 0.0000 -0.9848 -0.5882\n",
      "month_oct                0.8391   0.1311   6.3993 0.0000  0.5821  1.0962\n",
      "month_sep                0.9806   0.1449   6.7697 0.0000  0.6967  1.2645\n",
      "poutcome_not applicable  0.1017   0.1174   0.8669 0.3860 -0.1283  0.3318\n",
      "poutcome_other           0.2355   0.1082   2.1765 0.0295  0.0234  0.4475\n",
      "poutcome_success         2.3781   0.1000  23.7852 0.0000  2.1821  2.5740\n",
      "========================================================================\n",
      "\n"
     ]
    }
   ],
   "source": [
    "logit = sm.Logit(y_train, X_train_lg2)\n",
    "\n",
    "lg2 = logit.fit()\n",
    "\n",
    "print(lg2.summary2())"
   ]
  },
  {
   "cell_type": "code",
   "execution_count": 20,
   "metadata": {},
   "outputs": [
    {
     "name": "stdout",
     "output_type": "stream",
     "text": [
      "Accuracy on training set :  0.903245173318166\n",
      "Accuracy on test set :  0.9002506635210852\n",
      "Recall on training set :  0.3571042679632631\n",
      "Recall on test set :  0.34341524889729047\n",
      "Precision on training set :  0.6596806387225549\n",
      "Precision on test set :  0.6366822429906542\n"
     ]
    }
   ],
   "source": [
    "metrics_lg = get_metrics_score(lg2,X_train_lg2,X_test_lg2,y_train,y_test,flag=True)"
   ]
  },
  {
   "cell_type": "markdown",
   "metadata": {},
   "source": [
    "#### No improvement"
   ]
  },
  {
   "cell_type": "code",
   "execution_count": 21,
   "metadata": {},
   "outputs": [],
   "source": [
    "X_train_lg3 = X_train_lg2.drop('default_yes', axis=1)\n",
    "X_test_lg3 = X_test_lg2.drop('default_yes', axis=1)"
   ]
  },
  {
   "cell_type": "code",
   "execution_count": 22,
   "metadata": {
    "scrolled": true
   },
   "outputs": [
    {
     "name": "stdout",
     "output_type": "stream",
     "text": [
      "Optimization terminated successfully.\n",
      "         Current function value: 0.236520\n",
      "         Iterations 8\n",
      "                             Results: Logit\n",
      "========================================================================\n",
      "Model:                 Logit              Pseudo R-squared:   0.345     \n",
      "Dependent Variable:    y                  AIC:                15052.2846\n",
      "Date:                  2021-08-13 23:19   BIC:                15395.1430\n",
      "No. Observations:      31647              Log-Likelihood:     -7485.1   \n",
      "Df Model:              40                 LL-Null:            -11420.   \n",
      "Df Residuals:          31606              LLR p-value:        0.0000    \n",
      "Converged:             1.0000             Scale:              1.0000    \n",
      "No. Iterations:        8.0000                                           \n",
      "------------------------------------------------------------------------\n",
      "                         Coef.  Std.Err.    z     P>|z|   [0.025  0.975]\n",
      "------------------------------------------------------------------------\n",
      "const                   -2.8888   0.1847 -15.6396 0.0000 -3.2508 -2.5268\n",
      "balance                  0.0000   0.0000   1.7190 0.0856 -0.0000  0.0000\n",
      "day                      0.0081   0.0030   2.7002 0.0069  0.0022  0.0140\n",
      "duration                 0.0043   0.0001  54.7721 0.0000  0.0041  0.0044\n",
      "campaign                -0.0792   0.0119  -6.6827 0.0000 -0.1024 -0.0560\n",
      "pdays                    0.0005   0.0004   1.3594 0.1740 -0.0002  0.0012\n",
      "previous                 0.0188   0.0114   1.6455 0.0999 -0.0036  0.0412\n",
      "job_blue-collar         -0.2468   0.0870  -2.8350 0.0046 -0.4174 -0.0762\n",
      "job_entrepreneur        -0.2922   0.1483  -1.9702 0.0488 -0.5828 -0.0015\n",
      "job_housemaid           -0.4806   0.1696  -2.8346 0.0046 -0.8130 -0.1483\n",
      "job_management          -0.0710   0.0879  -0.8078 0.4192 -0.2434  0.1013\n",
      "job_retired              0.3679   0.1044   3.5228 0.0004  0.1632  0.5726\n",
      "job_self-employed       -0.2837   0.1369  -2.0721 0.0383 -0.5520 -0.0153\n",
      "job_services            -0.2616   0.1032  -2.5362 0.0112 -0.4638 -0.0594\n",
      "job_student              0.4788   0.1290   3.7104 0.0002  0.2259  0.7317\n",
      "job_technician          -0.1152   0.0830  -1.3882 0.1651 -0.2779  0.0475\n",
      "job_unemployed          -0.1449   0.1337  -1.0841 0.2783 -0.4070  0.1171\n",
      "job_unknown             -0.3391   0.2863  -1.1843 0.2363 -0.9002  0.2221\n",
      "marital_married         -0.1191   0.0716  -1.6638 0.0961 -0.2593  0.0212\n",
      "marital_single           0.1440   0.0769   1.8729 0.0611 -0.0067  0.2946\n",
      "education_secondary      0.2169   0.0776   2.7968 0.0052  0.0649  0.3689\n",
      "education_tertiary       0.3981   0.0898   4.4311 0.0000  0.2220  0.5741\n",
      "education_unknown        0.2494   0.1253   1.9898 0.0466  0.0037  0.4950\n",
      "housing_yes             -0.6760   0.0527 -12.8311 0.0000 -0.7792 -0.5727\n",
      "loan_yes                -0.4158   0.0721  -5.7682 0.0000 -0.5571 -0.2745\n",
      "contact_telephone       -0.2361   0.0911  -2.5918 0.0095 -0.4147 -0.0576\n",
      "contact_unknown         -1.6007   0.0869 -18.4160 0.0000 -1.7711 -1.4304\n",
      "month_aug               -0.7206   0.0945  -7.6264 0.0000 -0.9058 -0.5354\n",
      "month_dec                0.6397   0.2118   3.0203 0.0025  0.2246  1.0549\n",
      "month_feb               -0.1084   0.1069  -1.0134 0.3109 -0.3180  0.1012\n",
      "month_jan               -1.2302   0.1477  -8.3273 0.0000 -1.5197 -0.9406\n",
      "month_jul               -0.8783   0.0934  -9.4035 0.0000 -1.0614 -0.6952\n",
      "month_jun                0.4850   0.1119   4.3325 0.0000  0.2656  0.7044\n",
      "month_mar                1.6066   0.1435  11.1989 0.0000  1.3254  1.8878\n",
      "month_may               -0.3862   0.0870  -4.4380 0.0000 -0.5568 -0.2157\n",
      "month_nov               -0.7875   0.1011  -7.7855 0.0000 -0.9858 -0.5893\n",
      "month_oct                0.8392   0.1311   6.3991 0.0000  0.5821  1.0962\n",
      "month_sep                0.9806   0.1449   6.7691 0.0000  0.6966  1.2645\n",
      "poutcome_not applicable  0.1010   0.1174   0.8604 0.3896 -0.1290  0.3310\n",
      "poutcome_other           0.2348   0.1082   2.1703 0.0300  0.0228  0.4468\n",
      "poutcome_success         2.3783   0.1000  23.7869 0.0000  2.1823  2.5742\n",
      "========================================================================\n",
      "\n"
     ]
    }
   ],
   "source": [
    "logit = sm.Logit(y_train, X_train_lg3)\n",
    "\n",
    "lg3 = logit.fit()\n",
    "\n",
    "print(lg3.summary2())"
   ]
  },
  {
   "cell_type": "code",
   "execution_count": 23,
   "metadata": {},
   "outputs": [
    {
     "name": "stdout",
     "output_type": "stream",
     "text": [
      "Accuracy on training set :  0.903245173318166\n",
      "Accuracy on test set :  0.9001769389560602\n",
      "Recall on training set :  0.3571042679632631\n",
      "Recall on test set :  0.3427851291745432\n",
      "Precision on training set :  0.6596806387225549\n",
      "Precision on test set :  0.6362573099415205\n"
     ]
    }
   ],
   "source": [
    "metrics_lg = get_metrics_score(lg3,X_train_lg3,X_test_lg3,y_train,y_test,flag=True)"
   ]
  },
  {
   "cell_type": "code",
   "execution_count": 24,
   "metadata": {},
   "outputs": [],
   "source": [
    "X_train_lg4 = X_train_lg3.drop('pdays', axis=1)\n",
    "X_test_lg4 = X_test_lg3.drop('pdays', axis=1)"
   ]
  },
  {
   "cell_type": "code",
   "execution_count": 25,
   "metadata": {
    "scrolled": true
   },
   "outputs": [
    {
     "name": "stdout",
     "output_type": "stream",
     "text": [
      "Optimization terminated successfully.\n",
      "         Current function value: 0.236549\n",
      "         Iterations 8\n",
      "                             Results: Logit\n",
      "========================================================================\n",
      "Model:                 Logit              Pseudo R-squared:   0.344     \n",
      "Dependent Variable:    y                  AIC:                15052.1267\n",
      "Date:                  2021-08-13 23:19   BIC:                15386.6226\n",
      "No. Observations:      31647              Log-Likelihood:     -7486.1   \n",
      "Df Model:              39                 LL-Null:            -11420.   \n",
      "Df Residuals:          31607              LLR p-value:        0.0000    \n",
      "Converged:             1.0000             Scale:              1.0000    \n",
      "No. Iterations:        8.0000                                           \n",
      "------------------------------------------------------------------------\n",
      "                         Coef.  Std.Err.    z     P>|z|   [0.025  0.975]\n",
      "------------------------------------------------------------------------\n",
      "const                   -2.7653   0.1605 -17.2259 0.0000 -3.0799 -2.4507\n",
      "balance                  0.0000   0.0000   1.7149 0.0864 -0.0000  0.0000\n",
      "day                      0.0081   0.0030   2.6898 0.0071  0.0022  0.0140\n",
      "duration                 0.0043   0.0001  54.7731 0.0000  0.0041  0.0044\n",
      "campaign                -0.0790   0.0118  -6.6701 0.0000 -0.1023 -0.0558\n",
      "previous                 0.0180   0.0115   1.5674 0.1170 -0.0045  0.0404\n",
      "job_blue-collar         -0.2464   0.0870  -2.8312 0.0046 -0.4170 -0.0758\n",
      "job_entrepreneur        -0.2923   0.1483  -1.9711 0.0487 -0.5829 -0.0017\n",
      "job_housemaid           -0.4848   0.1695  -2.8595 0.0042 -0.8170 -0.1525\n",
      "job_management          -0.0714   0.0879  -0.8124 0.4166 -0.2438  0.1009\n",
      "job_retired              0.3643   0.1044   3.4889 0.0005  0.1596  0.5689\n",
      "job_self-employed       -0.2848   0.1369  -2.0808 0.0375 -0.5531 -0.0165\n",
      "job_services            -0.2608   0.1031  -2.5290 0.0114 -0.4629 -0.0587\n",
      "job_student              0.4753   0.1290   3.6833 0.0002  0.2224  0.7281\n",
      "job_technician          -0.1164   0.0830  -1.4030 0.1606 -0.2791  0.0462\n",
      "job_unemployed          -0.1428   0.1336  -1.0685 0.2853 -0.4047  0.1191\n",
      "job_unknown             -0.3412   0.2867  -1.1902 0.2340 -0.9030  0.2207\n",
      "marital_married         -0.1212   0.0715  -1.6945 0.0902 -0.2614  0.0190\n",
      "marital_single           0.1426   0.0769   1.8556 0.0635 -0.0080  0.2932\n",
      "education_secondary      0.2165   0.0776   2.7923 0.0052  0.0645  0.3685\n",
      "education_tertiary       0.3954   0.0898   4.4023 0.0000  0.2194  0.5714\n",
      "education_unknown        0.2488   0.1253   1.9852 0.0471  0.0032  0.4944\n",
      "housing_yes             -0.6699   0.0525 -12.7691 0.0000 -0.7727 -0.5671\n",
      "loan_yes                -0.4160   0.0721  -5.7713 0.0000 -0.5572 -0.2747\n",
      "contact_telephone       -0.2359   0.0911  -2.5893 0.0096 -0.4145 -0.0573\n",
      "contact_unknown         -1.6055   0.0868 -18.4969 0.0000 -1.7757 -1.4354\n",
      "month_aug               -0.7241   0.0944  -7.6669 0.0000 -0.9092 -0.5390\n",
      "month_dec                0.6381   0.2116   3.0163 0.0026  0.2235  1.0528\n",
      "month_feb               -0.1151   0.1068  -1.0774 0.2813 -0.3244  0.0943\n",
      "month_jan               -1.2361   0.1477  -8.3718 0.0000 -1.5255 -0.9467\n",
      "month_jul               -0.8804   0.0934  -9.4289 0.0000 -1.0634 -0.6974\n",
      "month_jun                0.4816   0.1119   4.3048 0.0000  0.2623  0.7009\n",
      "month_mar                1.6034   0.1434  11.1788 0.0000  1.3223  1.8845\n",
      "month_may               -0.3816   0.0870  -4.3866 0.0000 -0.5521 -0.2111\n",
      "month_nov               -0.8010   0.1006  -7.9585 0.0000 -0.9982 -0.6037\n",
      "month_oct                0.8335   0.1311   6.3579 0.0000  0.5766  1.0905\n",
      "month_sep                0.9809   0.1449   6.7697 0.0000  0.6969  1.2649\n",
      "poutcome_not applicable -0.0182   0.0775  -0.2343 0.8147 -0.1700  0.1337\n",
      "poutcome_other           0.2278   0.1081   2.1070 0.0351  0.0159  0.4397\n",
      "poutcome_success         2.3431   0.0963  24.3192 0.0000  2.1543  2.5319\n",
      "========================================================================\n",
      "\n"
     ]
    }
   ],
   "source": [
    "logit = sm.Logit(y_train, X_train_lg4)\n",
    "\n",
    "lg4 = logit.fit()\n",
    "\n",
    "print(lg4.summary2())"
   ]
  },
  {
   "cell_type": "code",
   "execution_count": 26,
   "metadata": {},
   "outputs": [
    {
     "name": "stdout",
     "output_type": "stream",
     "text": [
      "Accuracy on training set :  0.903245173318166\n",
      "Accuracy on test set :  0.9004718372161604\n",
      "Recall on training set :  0.35602377093462995\n",
      "Recall on test set :  0.3427851291745432\n",
      "Precision on training set :  0.6603206412825652\n",
      "Precision on test set :  0.6392479435957696\n"
     ]
    }
   ],
   "source": [
    "metrics_lg = get_metrics_score(lg4,X_train_lg4,X_test_lg4,y_train,y_test,flag=True)"
   ]
  },
  {
   "cell_type": "code",
   "execution_count": 27,
   "metadata": {},
   "outputs": [],
   "source": [
    "X_train_lg5 = X_train_lg4.drop('previous', axis=1)\n",
    "X_test_lg5 = X_test_lg4.drop('previous', axis=1)"
   ]
  },
  {
   "cell_type": "code",
   "execution_count": 28,
   "metadata": {
    "scrolled": true
   },
   "outputs": [
    {
     "name": "stdout",
     "output_type": "stream",
     "text": [
      "Optimization terminated successfully.\n",
      "         Current function value: 0.236586\n",
      "         Iterations 8\n",
      "                             Results: Logit\n",
      "========================================================================\n",
      "Model:                 Logit              Pseudo R-squared:   0.344     \n",
      "Dependent Variable:    y                  AIC:                15052.4624\n",
      "Date:                  2021-08-13 23:19   BIC:                15378.5960\n",
      "No. Observations:      31647              Log-Likelihood:     -7487.2   \n",
      "Df Model:              38                 LL-Null:            -11420.   \n",
      "Df Residuals:          31608              LLR p-value:        0.0000    \n",
      "Converged:             1.0000             Scale:              1.0000    \n",
      "No. Iterations:        8.0000                                           \n",
      "------------------------------------------------------------------------\n",
      "                         Coef.  Std.Err.    z     P>|z|   [0.025  0.975]\n",
      "------------------------------------------------------------------------\n",
      "const                   -2.7126   0.1568 -17.2987 0.0000 -3.0200 -2.4053\n",
      "balance                  0.0000   0.0000   1.7280 0.0840 -0.0000  0.0000\n",
      "day                      0.0079   0.0030   2.6413 0.0083  0.0021  0.0138\n",
      "duration                 0.0043   0.0001  54.7658 0.0000  0.0041  0.0044\n",
      "campaign                -0.0782   0.0118  -6.6191 0.0000 -0.1014 -0.0551\n",
      "job_blue-collar         -0.2489   0.0870  -2.8604 0.0042 -0.4194 -0.0783\n",
      "job_entrepreneur        -0.2942   0.1483  -1.9844 0.0472 -0.5848 -0.0036\n",
      "job_housemaid           -0.4899   0.1696  -2.8888 0.0039 -0.8223 -0.1575\n",
      "job_management          -0.0710   0.0879  -0.8075 0.4194 -0.2433  0.1013\n",
      "job_retired              0.3620   0.1044   3.4677 0.0005  0.1574  0.5666\n",
      "job_self-employed       -0.2853   0.1369  -2.0840 0.0372 -0.5536 -0.0170\n",
      "job_services            -0.2620   0.1031  -2.5408 0.0111 -0.4640 -0.0599\n",
      "job_student              0.4760   0.1290   3.6905 0.0002  0.2232  0.7289\n",
      "job_technician          -0.1168   0.0830  -1.4068 0.1595 -0.2794  0.0459\n",
      "job_unemployed          -0.1442   0.1336  -1.0790 0.2806 -0.4060  0.1177\n",
      "job_unknown             -0.3389   0.2864  -1.1831 0.2368 -0.9003  0.2225\n",
      "marital_married         -0.1202   0.0715  -1.6808 0.0928 -0.2604  0.0200\n",
      "marital_single           0.1436   0.0769   1.8690 0.0616 -0.0070  0.2943\n",
      "education_secondary      0.2133   0.0775   2.7512 0.0059  0.0613  0.3652\n",
      "education_tertiary       0.3923   0.0898   4.3692 0.0000  0.2163  0.5683\n",
      "education_unknown        0.2451   0.1253   1.9565 0.0504 -0.0004  0.4906\n",
      "housing_yes             -0.6683   0.0524 -12.7442 0.0000 -0.7711 -0.5655\n",
      "loan_yes                -0.4145   0.0721  -5.7512 0.0000 -0.5557 -0.2732\n",
      "contact_telephone       -0.2325   0.0911  -2.5539 0.0107 -0.4110 -0.0541\n",
      "contact_unknown         -1.6053   0.0868 -18.4935 0.0000 -1.7754 -1.4351\n",
      "month_aug               -0.7218   0.0944  -7.6437 0.0000 -0.9069 -0.5367\n",
      "month_dec                0.6450   0.2115   3.0505 0.0023  0.2306  1.0595\n",
      "month_feb               -0.1142   0.1068  -1.0690 0.2851 -0.3235  0.0952\n",
      "month_jan               -1.2320   0.1477  -8.3405 0.0000 -1.5215 -0.9425\n",
      "month_jul               -0.8783   0.0934  -9.4072 0.0000 -1.0613 -0.6953\n",
      "month_jun                0.4832   0.1119   4.3194 0.0000  0.2639  0.7025\n",
      "month_mar                1.6038   0.1434  11.1843 0.0000  1.3228  1.8849\n",
      "month_may               -0.3800   0.0870  -4.3688 0.0000 -0.5505 -0.2095\n",
      "month_nov               -0.7990   0.1006  -7.9395 0.0000 -0.9963 -0.6018\n",
      "month_oct                0.8384   0.1311   6.3941 0.0000  0.5814  1.0953\n",
      "month_sep                0.9831   0.1449   6.7847 0.0000  0.6991  1.2670\n",
      "poutcome_not applicable -0.0703   0.0697  -1.0078 0.3136 -0.2069  0.0664\n",
      "poutcome_other           0.2456   0.1075   2.2854 0.0223  0.0350  0.4563\n",
      "poutcome_success         2.3463   0.0963  24.3596 0.0000  2.1575  2.5351\n",
      "========================================================================\n",
      "\n"
     ]
    }
   ],
   "source": [
    "logit = sm.Logit(y_train, X_train_lg5)\n",
    "\n",
    "lg5 = logit.fit()\n",
    "\n",
    "print(lg5.summary2())"
   ]
  },
  {
   "cell_type": "code",
   "execution_count": 29,
   "metadata": {},
   "outputs": [
    {
     "name": "stdout",
     "output_type": "stream",
     "text": [
      "Accuracy on training set :  0.9031503776029324\n",
      "Accuracy on test set :  0.9005455617811855\n",
      "Recall on training set :  0.35602377093462995\n",
      "Recall on test set :  0.34530560806553245\n",
      "Precision on training set :  0.6593296648324162\n",
      "Precision on test set :  0.6386946386946387\n"
     ]
    }
   ],
   "source": [
    "metrics_lg = get_metrics_score(lg5,X_train_lg5,X_test_lg5,y_train,y_test,flag=True)"
   ]
  },
  {
   "cell_type": "code",
   "execution_count": 30,
   "metadata": {},
   "outputs": [],
   "source": [
    "X_train_lg6 = X_train_lg5.drop('balance', axis=1)\n",
    "X_test_lg6 = X_test_lg5.drop('balance', axis=1)"
   ]
  },
  {
   "cell_type": "code",
   "execution_count": 31,
   "metadata": {
    "scrolled": true
   },
   "outputs": [
    {
     "name": "stdout",
     "output_type": "stream",
     "text": [
      "Optimization terminated successfully.\n",
      "         Current function value: 0.236631\n",
      "         Iterations 8\n",
      "                             Results: Logit\n",
      "========================================================================\n",
      "Model:                 Logit              Pseudo R-squared:   0.344     \n",
      "Dependent Variable:    y                  AIC:                15053.3366\n",
      "Date:                  2021-08-13 23:19   BIC:                15371.1077\n",
      "No. Observations:      31647              Log-Likelihood:     -7488.7   \n",
      "Df Model:              37                 LL-Null:            -11420.   \n",
      "Df Residuals:          31609              LLR p-value:        0.0000    \n",
      "Converged:             1.0000             Scale:              1.0000    \n",
      "No. Iterations:        8.0000                                           \n",
      "------------------------------------------------------------------------\n",
      "                         Coef.  Std.Err.    z     P>|z|   [0.025  0.975]\n",
      "------------------------------------------------------------------------\n",
      "const                   -2.6984   0.1565 -17.2368 0.0000 -3.0052 -2.3915\n",
      "day                      0.0080   0.0030   2.6573 0.0079  0.0021  0.0139\n",
      "duration                 0.0043   0.0001  54.8038 0.0000  0.0041  0.0044\n",
      "campaign                -0.0784   0.0118  -6.6311 0.0000 -0.1016 -0.0552\n",
      "job_blue-collar         -0.2489   0.0870  -2.8614 0.0042 -0.4195 -0.0784\n",
      "job_entrepreneur        -0.2912   0.1482  -1.9645 0.0495 -0.5817 -0.0007\n",
      "job_housemaid           -0.4923   0.1696  -2.9027 0.0037 -0.8247 -0.1599\n",
      "job_management          -0.0663   0.0878  -0.7548 0.4504 -0.2385  0.1059\n",
      "job_retired              0.3692   0.1043   3.5409 0.0004  0.1648  0.5735\n",
      "job_self-employed       -0.2818   0.1369  -2.0582 0.0396 -0.5501 -0.0135\n",
      "job_services            -0.2632   0.1031  -2.5531 0.0107 -0.4653 -0.0612\n",
      "job_student              0.4771   0.1290   3.6995 0.0002  0.2243  0.7299\n",
      "job_technician          -0.1150   0.0830  -1.3858 0.1658 -0.2776  0.0476\n",
      "job_unemployed          -0.1414   0.1336  -1.0582 0.2900 -0.4032  0.1205\n",
      "job_unknown             -0.3401   0.2866  -1.1865 0.2354 -0.9018  0.2217\n",
      "marital_married         -0.1169   0.0715  -1.6352 0.1020 -0.2570  0.0232\n",
      "marital_single           0.1444   0.0768   1.8789 0.0603 -0.0062  0.2950\n",
      "education_secondary      0.2125   0.0775   2.7423 0.0061  0.0606  0.3644\n",
      "education_tertiary       0.3946   0.0898   4.3959 0.0000  0.2186  0.5705\n",
      "education_unknown        0.2463   0.1252   1.9667 0.0492  0.0008  0.4917\n",
      "housing_yes             -0.6720   0.0524 -12.8244 0.0000 -0.7747 -0.5693\n",
      "loan_yes                -0.4216   0.0719  -5.8600 0.0000 -0.5626 -0.2806\n",
      "contact_telephone       -0.2288   0.0910  -2.5138 0.0119 -0.4072 -0.0504\n",
      "contact_unknown         -1.6061   0.0868 -18.5068 0.0000 -1.7762 -1.4360\n",
      "month_aug               -0.7252   0.0944  -7.6796 0.0000 -0.9102 -0.5401\n",
      "month_dec                0.6461   0.2112   3.0585 0.0022  0.2321  1.0601\n",
      "month_feb               -0.1160   0.1068  -1.0865 0.2773 -0.3253  0.0933\n",
      "month_jan               -1.2395   0.1477  -8.3942 0.0000 -1.5289 -0.9501\n",
      "month_jul               -0.8834   0.0933  -9.4670 0.0000 -1.0663 -0.7005\n",
      "month_jun                0.4865   0.1119   4.3489 0.0000  0.2672  0.7057\n",
      "month_mar                1.6058   0.1434  11.1986 0.0000  1.3247  1.8868\n",
      "month_may               -0.3818   0.0870  -4.3904 0.0000 -0.5522 -0.2113\n",
      "month_nov               -0.7882   0.1005  -7.8461 0.0000 -0.9851 -0.5913\n",
      "month_oct                0.8432   0.1312   6.4295 0.0000  0.5862  1.1003\n",
      "month_sep                0.9855   0.1449   6.8029 0.0000  0.7016  1.2695\n",
      "poutcome_not applicable -0.0708   0.0697  -1.0158 0.3097 -0.2075  0.0658\n",
      "poutcome_other           0.2472   0.1074   2.3013 0.0214  0.0367  0.4578\n",
      "poutcome_success         2.3468   0.0963  24.3646 0.0000  2.1580  2.5356\n",
      "========================================================================\n",
      "\n"
     ]
    }
   ],
   "source": [
    "logit = sm.Logit(y_train, X_train_lg6)\n",
    "\n",
    "lg6 = logit.fit()\n",
    "\n",
    "print(lg6.summary2())"
   ]
  },
  {
   "cell_type": "code",
   "execution_count": 32,
   "metadata": {},
   "outputs": [
    {
     "name": "stdout",
     "output_type": "stream",
     "text": [
      "Accuracy on training set :  0.9033083704616551\n",
      "Accuracy on test set :  0.9005455617811855\n",
      "Recall on training set :  0.35764451647757967\n",
      "Recall on test set :  0.3446754883427851\n",
      "Precision on training set :  0.6600199401794616\n",
      "Precision on test set :  0.639018691588785\n"
     ]
    }
   ],
   "source": [
    "metric_lg = get_metrics_score(lg6,X_train_lg6,X_test_lg6,y_train,y_test,flag=True)"
   ]
  },
  {
   "cell_type": "markdown",
   "metadata": {},
   "source": [
    "#### After dropping all insignificant features, the recall has not improved."
   ]
  },
  {
   "cell_type": "markdown",
   "metadata": {},
   "source": [
    "### ROC Curves"
   ]
  },
  {
   "cell_type": "markdown",
   "metadata": {},
   "source": [
    "#### On training set"
   ]
  },
  {
   "cell_type": "code",
   "execution_count": 33,
   "metadata": {},
   "outputs": [
    {
     "data": {
      "image/png": "[encoded data removed]",
      "text/plain": [
       "<Figure size 504x360 with 1 Axes>"
      ]
     },
     "metadata": {},
     "output_type": "display_data"
    }
   ],
   "source": [
    "logit_roc_auc_train = roc_auc_score(y_train, lg6.predict(X_train_lg6))\n",
    "fpr, tpr, thresholds = roc_curve(y_train, lg6.predict(X_train_lg6))\n",
    "plt.figure(figsize=(7,5))\n",
    "plt.plot(fpr, tpr, label='Logistic Regression (area = %0.2f)' % logit_roc_auc_train)\n",
    "plt.plot([0, 1], [0, 1],'r--')\n",
    "plt.xlim([0.0, 1.0])\n",
    "plt.ylim([0.0, 1.05])\n",
    "plt.xlabel('False Positive Rate')\n",
    "plt.ylabel('True Positive Rate')\n",
    "plt.title('Receiver operating characteristic')\n",
    "plt.legend(loc=\"lower right\")\n",
    "plt.show()"
   ]
  },
  {
   "cell_type": "code",
   "execution_count": 34,
   "metadata": {},
   "outputs": [
    {
     "data": {
      "image/png": "[encoded data removed]",
      "text/plain": [
       "<Figure size 504x360 with 1 Axes>"
      ]
     },
     "metadata": {},
     "output_type": "display_data"
    }
   ],
   "source": [
    "logit_roc_auc_test = roc_auc_score(y_test, lg6.predict(X_test_lg6))\n",
    "fpr, tpr, thresholds = roc_curve(y_test, lg6.predict(X_test_lg6))\n",
    "plt.figure(figsize=(7,5))\n",
    "plt.plot(fpr, tpr, label='Logistic Regression (area = %0.2f)' % logit_roc_auc_test)\n",
    "plt.plot([0, 1], [0, 1],'r--')\n",
    "plt.xlim([0.0, 1.0])\n",
    "plt.ylim([0.0, 1.05])\n",
    "plt.xlabel('False Positive Rate')\n",
    "plt.ylabel('True Positive Rate')\n",
    "plt.title('Receiver operating characteristic')\n",
    "plt.legend(loc=\"lower right\")\n",
    "plt.show()"
   ]
  },
  {
   "cell_type": "markdown",
   "metadata": {},
   "source": [
    "### Optimal Threshold using precision-recall curve"
   ]
  },
  {
   "cell_type": "code",
   "execution_count": 35,
   "metadata": {},
   "outputs": [
    {
     "data": {
      "image/png": "[encoded data removed]",
      "text/plain": [
       "<Figure size 720x504 with 1 Axes>"
      ]
     },
     "metadata": {},
     "output_type": "display_data"
    }
   ],
   "source": [
    "y_scores=lg6.predict(X_train_lg6)\n",
    "prec, rec, tre = precision_recall_curve(y_train, y_scores,)\n",
    "\n",
    "def plot_prec_recall_vs_tresh(precisions, recalls, thresholds):\n",
    "    plt.plot(thresholds, precisions[:-1], 'b--', label='precision')\n",
    "    plt.plot(thresholds, recalls[:-1], 'g--', label = 'recall')\n",
    "    plt.xlabel('Threshold')\n",
    "    plt.legend(loc='upper left')\n",
    "    plt.ylim([0,1])\n",
    "plt.figure(figsize=(10,7))\n",
    "plot_prec_recall_vs_tresh(prec, rec, tre)\n",
    "plt.show()"
   ]
  },
  {
   "cell_type": "code",
   "execution_count": 36,
   "metadata": {},
   "outputs": [
    {
     "name": "stdout",
     "output_type": "stream",
     "text": [
      "Accuracy on train data: 0.8450090055929472\n",
      "Accuracy on test data: 0.8435564730168092\n",
      "Recall on train data: 0.8190167477039438\n",
      "Recall on test data: 0.8166351606805293\n",
      "Precision on train data: 0.4172285674969038\n",
      "Precision on test data: 0.4144547489606652\n"
     ]
    }
   ],
   "source": [
    "optimal_threshold = 0.12\n",
    "\n",
    "pred_train_opt = (lg6.predict(X_train_lg6.astype(float))>optimal_threshold).astype(int)\n",
    "pred_test_opt = (lg6.predict(X_test_lg6.astype(float))>optimal_threshold).astype(int)\n",
    "\n",
    "metric_lg_opt = []\n",
    "metric_lg_opt.append(accuracy_score(y_train, pred_train_opt))\n",
    "metric_lg_opt.append(accuracy_score(y_test, pred_test_opt))\n",
    "metric_lg_opt.append(recall_score(y_train, pred_train_opt))\n",
    "metric_lg_opt.append(recall_score(y_test, pred_test_opt))\n",
    "metric_lg_opt.append(precision_score(y_train, pred_train_opt))\n",
    "metric_lg_opt.append(precision_score(y_test, pred_test_opt))\n",
    "\n",
    "print('Accuracy on train data:', metric_lg_opt[0])\n",
    "print('Accuracy on test data:', metric_lg_opt[1])\n",
    "\n",
    "print('Recall on train data:', metric_lg_opt[2])\n",
    "print('Recall on test data:', metric_lg_opt[3])\n",
    "\n",
    "print('Precision on train data:', metric_lg_opt[4])\n",
    "print('Precision on test data:', metric_lg_opt[5])"
   ]
  },
  {
   "cell_type": "markdown",
   "metadata": {},
   "source": [
    "#### The recall has greatly improved by using the optimal threshold instead of the default threshold of 0.5. However, the precision has dropped to around 0.4, which is not ideal but overall this is a better model for this problem."
   ]
  },
  {
   "cell_type": "markdown",
   "metadata": {},
   "source": [
    "## Decision Trees"
   ]
  },
  {
   "cell_type": "code",
   "execution_count": 37,
   "metadata": {},
   "outputs": [
    {
     "data": {
      "text/plain": [
       "0    0.883015\n",
       "1    0.116985\n",
       "Name: y, dtype: float64"
      ]
     },
     "execution_count": 37,
     "metadata": {},
     "output_type": "execute_result"
    }
   ],
   "source": [
    "y.value_counts(1)"
   ]
  },
  {
   "cell_type": "code",
   "execution_count": 38,
   "metadata": {},
   "outputs": [
    {
     "data": {
      "text/plain": [
       "DecisionTreeClassifier(class_weight={0: 0.88, 1: 0.12}, random_state=0)"
      ]
     },
     "execution_count": 38,
     "metadata": {},
     "output_type": "execute_result"
    }
   ],
   "source": [
    "dtree = DecisionTreeClassifier(criterion='gini',class_weight={0:0.88,1:0.12},random_state=0)\n",
    "dtree.fit(X_train,y_train)"
   ]
  },
  {
   "cell_type": "code",
   "execution_count": 39,
   "metadata": {},
   "outputs": [
    {
     "name": "stdout",
     "output_type": "stream",
     "text": [
      "Accuracy on training set :  1.0\n",
      "Accuracy on test set :  0.8728988498967856\n",
      "Recall on training set :  1.0\n",
      "Recall on test set :  0.5015752993068683\n",
      "Precision on training set :  1.0\n",
      "Precision on test set :  0.46038172353961826\n"
     ]
    },
    {
     "data": {
      "image/png": "[encoded data removed]",
      "text/plain": [
       "<Figure size 648x432 with 2 Axes>"
      ]
     },
     "metadata": {},
     "output_type": "display_data"
    }
   ],
   "source": [
    "#Calculating different metrics\n",
    "metric_dt = get_metrics_score(dtree, X_train, X_test, y_train, y_test)\n",
    "\n",
    "#Creating confusion matrix\n",
    "make_confusion_matrix(dtree,y_test)"
   ]
  },
  {
   "cell_type": "markdown",
   "metadata": {},
   "source": [
    "#### There is clear overfitting, and the recall is not too great, neither is precision. We may get better results from tuning later on."
   ]
  },
  {
   "cell_type": "markdown",
   "metadata": {},
   "source": [
    "## Random Forest"
   ]
  },
  {
   "cell_type": "code",
   "execution_count": 40,
   "metadata": {},
   "outputs": [
    {
     "name": "stdout",
     "output_type": "stream",
     "text": [
      "Accuracy on training set :  1.0\n",
      "Accuracy on test set :  0.9041580654674137\n",
      "Recall on training set :  1.0\n",
      "Recall on test set :  0.38059231253938247\n",
      "Precision on training set :  1.0\n",
      "Precision on test set :  0.6558089033659066\n"
     ]
    },
    {
     "data": {
      "image/png": "[encoded data removed]",
      "text/plain": [
       "<Figure size 648x432 with 2 Axes>"
      ]
     },
     "metadata": {},
     "output_type": "display_data"
    }
   ],
   "source": [
    "#Fitting the model\n",
    "rf_estimator = RandomForestClassifier(random_state=1)\n",
    "rf_estimator.fit(X_train,y_train)\n",
    "\n",
    "#Calculating different metrics\n",
    "metric_rf = get_metrics_score(rf_estimator, X_train, X_test, y_train, y_test)\n",
    "\n",
    "#Creating confusion matrix\n",
    "make_confusion_matrix(rf_estimator,y_test)"
   ]
  },
  {
   "cell_type": "markdown",
   "metadata": {},
   "source": [
    "#### Once again there is overfitting, but the recall is even lower, at 0.3, which is very poor."
   ]
  },
  {
   "cell_type": "markdown",
   "metadata": {},
   "source": [
    "## Bagging Classifier"
   ]
  },
  {
   "cell_type": "code",
   "execution_count": 41,
   "metadata": {},
   "outputs": [
    {
     "name": "stdout",
     "output_type": "stream",
     "text": [
      "Accuracy on training set :  0.9915947799159478\n",
      "Accuracy on test set :  0.9020937776467118\n",
      "Recall on training set :  0.9324689357104268\n",
      "Recall on test set :  0.3982356647763075\n",
      "Precision on training set :  0.9953863898500577\n",
      "Precision on test set :  0.6288557213930348\n"
     ]
    },
    {
     "data": {
      "image/png": "[encoded data removed]",
      "text/plain": [
       "<Figure size 648x432 with 2 Axes>"
      ]
     },
     "metadata": {},
     "output_type": "display_data"
    }
   ],
   "source": [
    "#Fitting the model\n",
    "bagging_classifier = BaggingClassifier(random_state=1)\n",
    "bagging_classifier.fit(X_train,y_train)\n",
    "\n",
    "metric_bgc = get_metrics_score(bagging_classifier, X_train, X_test, y_train, y_test)\n",
    "make_confusion_matrix(bagging_classifier,y_test)"
   ]
  },
  {
   "cell_type": "markdown",
   "metadata": {},
   "source": [
    "#### There is lot of overfitting, and once again recall is quite low at 0.4, but accuracy and precision are higher."
   ]
  },
  {
   "cell_type": "markdown",
   "metadata": {},
   "source": [
    "## Gradient Boost"
   ]
  },
  {
   "cell_type": "code",
   "execution_count": 42,
   "metadata": {},
   "outputs": [
    {
     "name": "stdout",
     "output_type": "stream",
     "text": [
      "Accuracy on training set :  0.9112712105412836\n",
      "Accuracy on test set :  0.9073282217634916\n",
      "Recall on training set :  0.4357104267963263\n",
      "Recall on test set :  0.4158790170132325\n",
      "Precision on training set :  0.6916809605488851\n",
      "Precision on test set :  0.6666666666666666\n"
     ]
    },
    {
     "data": {
      "image/png": "[encoded data removed]",
      "text/plain": [
       "<Figure size 648x432 with 2 Axes>"
      ]
     },
     "metadata": {},
     "output_type": "display_data"
    }
   ],
   "source": [
    "gb_classifier = GradientBoostingClassifier(random_state=1)\n",
    "gb_classifier.fit(X_train,y_train)\n",
    "\n",
    "metric_gbc = get_metrics_score(gb_classifier, X_train, X_test, y_train, y_test)\n",
    "make_confusion_matrix(gb_classifier,y_test)"
   ]
  },
  {
   "cell_type": "markdown",
   "metadata": {},
   "source": [
    "#### The recall is once again around 0.4, but there is no overfitting in the gradient boost classifier, which is a good sign."
   ]
  },
  {
   "cell_type": "markdown",
   "metadata": {},
   "source": [
    "## XG Boost"
   ]
  },
  {
   "cell_type": "code",
   "execution_count": 43,
   "metadata": {
    "scrolled": false
   },
   "outputs": [
    {
     "name": "stdout",
     "output_type": "stream",
     "text": [
      "[23:19:26] WARNING: ..\\src\\learner.cc:1095: Starting in XGBoost 1.3.0, the default evaluation metric used with the objective 'binary:logistic' was changed from 'error' to 'logloss'. Explicitly set eval_metric if you'd like to restore the old behavior.\n",
      "Accuracy on training set :  0.9583846810124182\n",
      "Accuracy on test set :  0.9071807726334414\n",
      "Recall on training set :  0.731496488384657\n",
      "Recall on test set :  0.49086326402016384\n",
      "Precision on training set :  0.8934345100626856\n",
      "Precision on test set :  0.6333333333333333\n"
     ]
    },
    {
     "data": {
      "image/png": "[encoded data removed]",
      "text/plain": [
       "<Figure size 648x432 with 2 Axes>"
      ]
     },
     "metadata": {},
     "output_type": "display_data"
    }
   ],
   "source": [
    "xgb_classifier = XGBClassifier(random_state=1)\n",
    "xgb_classifier.fit(X_train,y_train)\n",
    "\n",
    "metric_xgb = get_metrics_score(xgb_classifier, X_train, X_test, y_train, y_test)\n",
    "make_confusion_matrix(xgb_classifier,y_test)"
   ]
  },
  {
   "cell_type": "markdown",
   "metadata": {},
   "source": [
    "#### There is some overfitting on the recall and precision, and they both are still quite low."
   ]
  },
  {
   "cell_type": "markdown",
   "metadata": {},
   "source": [
    "#### Now I will try to tune the hyperparameters using RandomSearch CV to search for a better model."
   ]
  },
  {
   "cell_type": "markdown",
   "metadata": {},
   "source": [
    "## Hyperparameter Tuning"
   ]
  },
  {
   "cell_type": "markdown",
   "metadata": {},
   "source": [
    "## Tuned Bagging Classifier"
   ]
  },
  {
   "cell_type": "code",
   "execution_count": 79,
   "metadata": {},
   "outputs": [
    {
     "data": {
      "text/plain": [
       "BaggingClassifier(max_features=0.8, max_samples=0.9, n_estimators=30,\n",
       "                  random_state=1)"
      ]
     },
     "execution_count": 79,
     "metadata": {},
     "output_type": "execute_result"
    }
   ],
   "source": [
    "# Choose the type of classifier. \n",
    "bgc_tuned = BaggingClassifier(random_state=1)\n",
    "\n",
    "# Grid of parameters to choose from\n",
    "parameters = {'max_samples': [0.7,0.8,0.9,1], \n",
    "              'max_features': [0.7,0.8,0.9,1],\n",
    "              'n_estimators' : [10,20,30,40,50],\n",
    "             }\n",
    "\n",
    "# Type of scoring used to compare parameter combinations\n",
    "scorer = metrics.make_scorer(metrics.recall_score)\n",
    "\n",
    "# Run the grid search\n",
    "grid_obj = RandomizedSearchCV(bgc_tuned, parameters, scoring=scorer,random_state=9)\n",
    "grid_obj = grid_obj.fit(X_train, y_train)\n",
    "\n",
    "# Set the clf to the best combination of parameters\n",
    "bgc_tuned = grid_obj.best_estimator_\n",
    "\n",
    "# Fit the best algorithm to the data.\n",
    "bgc_tuned.fit(X_train, y_train)"
   ]
  },
  {
   "cell_type": "code",
   "execution_count": 80,
   "metadata": {},
   "outputs": [
    {
     "name": "stdout",
     "output_type": "stream",
     "text": [
      "Accuracy on training set :  0.9977249028343919\n",
      "Accuracy on test set :  0.901135358301386\n",
      "Recall on training set :  0.9805510534846029\n",
      "Recall on test set :  0.3030875866414619\n",
      "Precision on training set :  1.0\n",
      "Precision on test set :  0.6717877094972067\n"
     ]
    },
    {
     "data": {
      "image/png": "[encoded data removed]",
      "text/plain": [
       "<Figure size 648x432 with 2 Axes>"
      ]
     },
     "metadata": {},
     "output_type": "display_data"
    }
   ],
   "source": [
    "metric_bgc_tuned = get_metrics_score(bgc_tuned, X_train, X_test, y_train, y_test)\n",
    "make_confusion_matrix(bgc_tuned,y_test)"
   ]
  },
  {
   "cell_type": "markdown",
   "metadata": {},
   "source": [
    "## Tuned Gradient Boost"
   ]
  },
  {
   "cell_type": "code",
   "execution_count": 81,
   "metadata": {},
   "outputs": [
    {
     "data": {
      "text/plain": [
       "GradientBoostingClassifier(max_features=0.7, n_estimators=200, random_state=1,\n",
       "                           subsample=0.9)"
      ]
     },
     "execution_count": 81,
     "metadata": {},
     "output_type": "execute_result"
    }
   ],
   "source": [
    "# Choose the type of classifier. \n",
    "gbc_tuned = GradientBoostingClassifier(random_state=1)\n",
    "\n",
    "# Grid of parameters to choose from\n",
    "parameters = {\n",
    "    \"n_estimators\": [100,150,200,250],\n",
    "    \"subsample\":[0.8,0.9,1],\n",
    "    \"max_features\":[0.7,0.8,0.9,1]\n",
    "}\n",
    "\n",
    "# Type of scoring used to compare parameter combinations\n",
    "acc_scorer = metrics.make_scorer(metrics.recall_score)\n",
    "\n",
    "# Run the grid search\n",
    "grid_obj = RandomizedSearchCV(gbc_tuned, parameters, scoring=acc_scorer, random_state=9)\n",
    "grid_obj = grid_obj.fit(X_train, y_train)\n",
    "\n",
    "# Set the clf to the best combination of parameters\n",
    "gbc_tuned = grid_obj.best_estimator_\n",
    "\n",
    "# Fit the best algorithm to the data.\n",
    "gbc_tuned.fit(X_train, y_train)\n"
   ]
  },
  {
   "cell_type": "code",
   "execution_count": 82,
   "metadata": {},
   "outputs": [
    {
     "name": "stdout",
     "output_type": "stream",
     "text": [
      "Accuracy on training set :  0.9166745663096028\n",
      "Accuracy on test set :  0.9074019463285167\n",
      "Recall on training set :  0.4859535386277688\n",
      "Recall on test set :  0.43982356647763077\n",
      "Precision on training set :  0.7102250296091591\n",
      "Precision on test set :  0.6553990610328638\n"
     ]
    },
    {
     "data": {
      "image/png": "[encoded data removed]",
      "text/plain": [
       "<Figure size 648x432 with 2 Axes>"
      ]
     },
     "metadata": {},
     "output_type": "display_data"
    }
   ],
   "source": [
    "metric_gbc_tuned = get_metrics_score(gbc_tuned, X_train, X_test, y_train, y_test)\n",
    "make_confusion_matrix(gbc_tuned,y_test)"
   ]
  },
  {
   "cell_type": "markdown",
   "metadata": {},
   "source": [
    "## Tuned XG Boost"
   ]
  },
  {
   "cell_type": "code",
   "execution_count": 77,
   "metadata": {},
   "outputs": [
    {
     "data": {
      "text/plain": [
       "XGBClassifier(base_score=0.5, booster='gbtree', colsample_bylevel=0.9,\n",
       "              colsample_bynode=1, colsample_bytree=1, eval_metric='logloss',\n",
       "              gamma=0, gpu_id=-1, importance_type='gain',\n",
       "              interaction_constraints='', learning_rate=0.1, max_delta_step=0,\n",
       "              max_depth=6, min_child_weight=1, missing=nan,\n",
       "              monotone_constraints='()', n_estimators=70, n_jobs=4,\n",
       "              num_parallel_tree=1, random_state=1, reg_alpha=0, reg_lambda=1,\n",
       "              scale_pos_weight=5, subsample=0.9, tree_method='exact',\n",
       "              validate_parameters=1, verbosity=None)"
      ]
     },
     "execution_count": 77,
     "metadata": {},
     "output_type": "execute_result"
    }
   ],
   "source": [
    "# Choose the type of classifier. \n",
    "xgb_tuned = XGBClassifier(random_state=1, eval_metric='logloss')\n",
    "\n",
    "# Grid of parameters to choose from\n",
    "parameters = {\n",
    "    \"n_estimators\": np.arange(10,80,20),\n",
    "    \"scale_pos_weight\":[0,1,2,5],\n",
    "    \"subsample\":[0.5,0.7,0.9,1],\n",
    "    \"learning_rate\":[0.01,0.1,0.2,0.05],\n",
    "    \"gamma\":[0,1,3],\n",
    "    \"colsample_bytree\":[0.5,0.7,0.9,1],\n",
    "    \"colsample_bylevel\":[0.5,0.7,0.9,1]\n",
    "}\n",
    "\n",
    "# Type of scoring used to compare parameter combinations\n",
    "scorer = metrics.make_scorer(metrics.recall_score)\n",
    "\n",
    "# Run the grid search\n",
    "grid_obj = RandomizedSearchCV(xgb_tuned, parameters,scoring=scorer, random_state=9)\n",
    "grid_obj = grid_obj.fit(X_train, y_train)\n",
    "\n",
    "# Set the clf to the best combination of parameters\n",
    "xgb_tuned = grid_obj.best_estimator_\n",
    "\n",
    "# Fit the best algorithm to the data.\n",
    "xgb_tuned.fit(X_train, y_train)"
   ]
  },
  {
   "cell_type": "code",
   "execution_count": 89,
   "metadata": {},
   "outputs": [
    {
     "name": "stdout",
     "output_type": "stream",
     "text": [
      "Accuracy on training set :  0.8914273074857016\n",
      "Accuracy on test set :  0.8797552344441167\n",
      "Recall on training set :  0.8860075634792004\n",
      "Recall on test set :  0.8254568367989918\n",
      "Precision on training set :  0.521131236097871\n",
      "Precision on test set :  0.49174174174174173\n"
     ]
    },
    {
     "data": {
      "image/png": "[encoded data removed]",
      "text/plain": [
       "<Figure size 648x432 with 2 Axes>"
      ]
     },
     "metadata": {},
     "output_type": "display_data"
    }
   ],
   "source": [
    "metric_xgb_tuned = get_metrics_score(xgb_tuned, X_train, X_test, y_train, y_test)\n",
    "make_confusion_matrix(xgb_tuned,y_test)"
   ]
  },
  {
   "cell_type": "markdown",
   "metadata": {},
   "source": [
    "#### This is a fantastic result in terms of recall. The recall has drastically improved to 0.81 on test set. The precision is low at 0.46, but it is affordable since the main aim is to maximise sales, so if some effort is wasted on customers that will not buy, that is ok."
   ]
  },
  {
   "cell_type": "markdown",
   "metadata": {},
   "source": [
    "## Stacking Classifier"
   ]
  },
  {
   "cell_type": "code",
   "execution_count": 83,
   "metadata": {},
   "outputs": [
    {
     "data": {
      "text/plain": [
       "StackingClassifier(estimators=[('Tuned Bagging Classifier',\n",
       "                                BaggingClassifier(max_features=0.8,\n",
       "                                                  max_samples=0.9,\n",
       "                                                  n_estimators=30,\n",
       "                                                  random_state=1)),\n",
       "                               ('Tuned Gradient Boosting',\n",
       "                                GradientBoostingClassifier(max_features=0.7,\n",
       "                                                           n_estimators=200,\n",
       "                                                           random_state=1,\n",
       "                                                           subsample=0.9)),\n",
       "                               ('Decision Tree',\n",
       "                                DecisionTreeClassifier(class_weight={0: 0.88,\n",
       "                                                                     1: 0.12},\n",
       "                                                       random_state=0))],\n",
       "                   final_...\n",
       "                                                 eval_metric='logloss', gamma=0,\n",
       "                                                 gpu_id=-1,\n",
       "                                                 importance_type='gain',\n",
       "                                                 interaction_constraints='',\n",
       "                                                 learning_rate=0.1,\n",
       "                                                 max_delta_step=0, max_depth=6,\n",
       "                                                 min_child_weight=1,\n",
       "                                                 missing=nan,\n",
       "                                                 monotone_constraints='()',\n",
       "                                                 n_estimators=70, n_jobs=4,\n",
       "                                                 num_parallel_tree=1,\n",
       "                                                 random_state=1, reg_alpha=0,\n",
       "                                                 reg_lambda=1,\n",
       "                                                 scale_pos_weight=5,\n",
       "                                                 subsample=0.9,\n",
       "                                                 tree_method='exact',\n",
       "                                                 validate_parameters=1,\n",
       "                                                 verbosity=None))"
      ]
     },
     "execution_count": 83,
     "metadata": {},
     "output_type": "execute_result"
    }
   ],
   "source": [
    "estimators = [('Tuned Bagging Classifier',bgc_tuned), ('Tuned Gradient Boosting',gbc_tuned), ('Decision Tree',dtree)]\n",
    "\n",
    "final_estimator = xgb_tuned\n",
    "\n",
    "stacking_classifier= StackingClassifier(estimators=estimators,final_estimator=final_estimator)\n",
    "\n",
    "stacking_classifier.fit(X_train,y_train)"
   ]
  },
  {
   "cell_type": "code",
   "execution_count": 84,
   "metadata": {},
   "outputs": [
    {
     "name": "stdout",
     "output_type": "stream",
     "text": [
      "Accuracy on training set :  0.9058678547729643\n",
      "Accuracy on test set :  0.8635358301386021\n",
      "Recall on training set :  0.9819016747703944\n",
      "Recall on test set :  0.8393194706994329\n",
      "Precision on training set :  0.5552161295249732\n",
      "Precision on test set :  0.45491803278688525\n"
     ]
    },
    {
     "data": {
      "image/png": "[encoded data removed]",
      "text/plain": [
       "<Figure size 648x432 with 2 Axes>"
      ]
     },
     "metadata": {},
     "output_type": "display_data"
    }
   ],
   "source": [
    "metric_stacking = get_metrics_score(stacking_classifier, X_train, X_test, y_train, y_test)\n",
    "make_confusion_matrix(stacking_classifier,y_test)"
   ]
  },
  {
   "cell_type": "markdown",
   "metadata": {},
   "source": [
    "#### The recall is great here too, but there is some overfitting in recall, precision and accuracy. So caution will be needed with this model."
   ]
  },
  {
   "cell_type": "markdown",
   "metadata": {},
   "source": [
    "## Model Comparison"
   ]
  },
  {
   "cell_type": "code",
   "execution_count": 85,
   "metadata": {},
   "outputs": [],
   "source": [
    "# defining list of models\n",
    "models = [dtree, rf_estimator, bagging_classifier, gb_classifier, xgb_classifier, bgc_tuned,\n",
    "          gbc_tuned, xgb_tuned, stacking_classifier]\n",
    "\n",
    "# defining empty lists to add train and test results\n",
    "acc_train = []\n",
    "acc_test = []\n",
    "recall_train = []\n",
    "recall_test = []\n",
    "precision_train = []\n",
    "precision_test = []\n",
    "\n",
    "# looping through all the models to get the metrics score - Accuracy, Recall and Precision\n",
    "for model in models:\n",
    "    \n",
    "    j = get_metrics_score(model, X_train, X_test, y_train, y_test, False)\n",
    "    acc_train.append(j[0])\n",
    "    acc_test.append(j[1])\n",
    "    recall_train.append(j[2])\n",
    "    recall_test.append(j[3])\n",
    "    precision_train.append(j[4])\n",
    "    precision_test.append(j[5])"
   ]
  },
  {
   "cell_type": "code",
   "execution_count": 86,
   "metadata": {},
   "outputs": [],
   "source": [
    "# Adding Optimised Logistic Regression scores\n",
    "\n",
    "acc_train.append(metric_lg_opt[0])\n",
    "acc_test.append(metric_lg_opt[1])\n",
    "recall_train.append(metric_lg_opt[2])\n",
    "recall_test.append(metric_lg_opt[3])\n",
    "precision_train.append(metric_lg_opt[4])\n",
    "precision_test.append(metric_lg_opt[5])"
   ]
  },
  {
   "cell_type": "code",
   "execution_count": 87,
   "metadata": {},
   "outputs": [
    {
     "data": {
      "text/html": [
       "<div>\n",
       "<style scoped>\n",
       "    .dataframe tbody tr th:only-of-type {\n",
       "        vertical-align: middle;\n",
       "    }\n",
       "\n",
       "    .dataframe tbody tr th {\n",
       "        vertical-align: top;\n",
       "    }\n",
       "\n",
       "    .dataframe thead th {\n",
       "        text-align: right;\n",
       "    }\n",
       "</style>\n",
       "<table border=\"1\" class=\"dataframe\">\n",
       "  <thead>\n",
       "    <tr style=\"text-align: right;\">\n",
       "      <th></th>\n",
       "      <th>Model</th>\n",
       "      <th>Train_Accuracy</th>\n",
       "      <th>Test_Accuracy</th>\n",
       "      <th>Train_Recall</th>\n",
       "      <th>Test_Recall</th>\n",
       "      <th>Train_Precision</th>\n",
       "      <th>Test_Precision</th>\n",
       "    </tr>\n",
       "  </thead>\n",
       "  <tbody>\n",
       "    <tr>\n",
       "      <th>8</th>\n",
       "      <td>Stacking Classifier</td>\n",
       "      <td>0.905868</td>\n",
       "      <td>0.863536</td>\n",
       "      <td>0.981902</td>\n",
       "      <td>0.839319</td>\n",
       "      <td>0.555216</td>\n",
       "      <td>0.454918</td>\n",
       "    </tr>\n",
       "    <tr>\n",
       "      <th>7</th>\n",
       "      <td>Tuned XGBoost</td>\n",
       "      <td>0.891427</td>\n",
       "      <td>0.879755</td>\n",
       "      <td>0.886008</td>\n",
       "      <td>0.825457</td>\n",
       "      <td>0.521131</td>\n",
       "      <td>0.491742</td>\n",
       "    </tr>\n",
       "    <tr>\n",
       "      <th>9</th>\n",
       "      <td>Optimised Logistic Regression</td>\n",
       "      <td>0.845009</td>\n",
       "      <td>0.843556</td>\n",
       "      <td>0.819017</td>\n",
       "      <td>0.816635</td>\n",
       "      <td>0.417229</td>\n",
       "      <td>0.414455</td>\n",
       "    </tr>\n",
       "    <tr>\n",
       "      <th>0</th>\n",
       "      <td>Decision Tree</td>\n",
       "      <td>1.000000</td>\n",
       "      <td>0.872899</td>\n",
       "      <td>1.000000</td>\n",
       "      <td>0.501575</td>\n",
       "      <td>1.000000</td>\n",
       "      <td>0.460382</td>\n",
       "    </tr>\n",
       "    <tr>\n",
       "      <th>4</th>\n",
       "      <td>XGBoost Classifier</td>\n",
       "      <td>0.958385</td>\n",
       "      <td>0.907181</td>\n",
       "      <td>0.731496</td>\n",
       "      <td>0.490863</td>\n",
       "      <td>0.893435</td>\n",
       "      <td>0.633333</td>\n",
       "    </tr>\n",
       "    <tr>\n",
       "      <th>6</th>\n",
       "      <td>Tuned Gradient Boost</td>\n",
       "      <td>0.916675</td>\n",
       "      <td>0.907402</td>\n",
       "      <td>0.485954</td>\n",
       "      <td>0.439824</td>\n",
       "      <td>0.710225</td>\n",
       "      <td>0.655399</td>\n",
       "    </tr>\n",
       "    <tr>\n",
       "      <th>3</th>\n",
       "      <td>Gradient Boost</td>\n",
       "      <td>0.911271</td>\n",
       "      <td>0.907328</td>\n",
       "      <td>0.435710</td>\n",
       "      <td>0.415879</td>\n",
       "      <td>0.691681</td>\n",
       "      <td>0.666667</td>\n",
       "    </tr>\n",
       "    <tr>\n",
       "      <th>2</th>\n",
       "      <td>Bagging Classifier</td>\n",
       "      <td>0.991595</td>\n",
       "      <td>0.902094</td>\n",
       "      <td>0.932469</td>\n",
       "      <td>0.398236</td>\n",
       "      <td>0.995386</td>\n",
       "      <td>0.628856</td>\n",
       "    </tr>\n",
       "    <tr>\n",
       "      <th>1</th>\n",
       "      <td>Random Forest</td>\n",
       "      <td>1.000000</td>\n",
       "      <td>0.904158</td>\n",
       "      <td>1.000000</td>\n",
       "      <td>0.380592</td>\n",
       "      <td>1.000000</td>\n",
       "      <td>0.655809</td>\n",
       "    </tr>\n",
       "    <tr>\n",
       "      <th>5</th>\n",
       "      <td>Tuned Bagging Classifier</td>\n",
       "      <td>0.997725</td>\n",
       "      <td>0.901135</td>\n",
       "      <td>0.980551</td>\n",
       "      <td>0.303088</td>\n",
       "      <td>1.000000</td>\n",
       "      <td>0.671788</td>\n",
       "    </tr>\n",
       "  </tbody>\n",
       "</table>\n",
       "</div>"
      ],
      "text/plain": [
       "                           Model  Train_Accuracy  Test_Accuracy  Train_Recall  \\\n",
       "8            Stacking Classifier        0.905868       0.863536      0.981902   \n",
       "7                  Tuned XGBoost        0.891427       0.879755      0.886008   \n",
       "9  Optimised Logistic Regression        0.845009       0.843556      0.819017   \n",
       "0                  Decision Tree        1.000000       0.872899      1.000000   \n",
       "4             XGBoost Classifier        0.958385       0.907181      0.731496   \n",
       "6           Tuned Gradient Boost        0.916675       0.907402      0.485954   \n",
       "3                 Gradient Boost        0.911271       0.907328      0.435710   \n",
       "2             Bagging Classifier        0.991595       0.902094      0.932469   \n",
       "1                  Random Forest        1.000000       0.904158      1.000000   \n",
       "5       Tuned Bagging Classifier        0.997725       0.901135      0.980551   \n",
       "\n",
       "   Test_Recall  Train_Precision  Test_Precision  \n",
       "8     0.839319         0.555216        0.454918  \n",
       "7     0.825457         0.521131        0.491742  \n",
       "9     0.816635         0.417229        0.414455  \n",
       "0     0.501575         1.000000        0.460382  \n",
       "4     0.490863         0.893435        0.633333  \n",
       "6     0.439824         0.710225        0.655399  \n",
       "3     0.415879         0.691681        0.666667  \n",
       "2     0.398236         0.995386        0.628856  \n",
       "1     0.380592         1.000000        0.655809  \n",
       "5     0.303088         1.000000        0.671788  "
      ]
     },
     "execution_count": 87,
     "metadata": {},
     "output_type": "execute_result"
    }
   ],
   "source": [
    "comparison = pd.DataFrame({'Model':['Decision Tree', 'Random Forest', 'Bagging Classifier', 'Gradient Boost',\n",
    "                                    'XGBoost Classifier', 'Tuned Bagging Classifier', 'Tuned Gradient Boost',\n",
    "                                    'Tuned XGBoost', 'Stacking Classifier', 'Optimised Logistic Regression'], \n",
    "                                    'Train_Accuracy': acc_train,'Test_Accuracy': acc_test,\n",
    "                                    'Train_Recall':recall_train,'Test_Recall':recall_test,\n",
    "                                    'Train_Precision':precision_train,'Test_Precision':precision_test}) \n",
    "\n",
    "#Sorting models in decreasing order of test recall\n",
    "comparison.sort_values(by='Test_Recall',ascending=False)"
   ]
  },
  {
   "cell_type": "markdown",
   "metadata": {},
   "source": [
    "#### Best Model\n",
    "#### Based on the test recalls, the highest and best three are the Stacking Classifier and the Tuned XG Boost. However, the Stacking Classifier has some clear overfitting, and the recall score of other two is only slighty lower and precision is similar. The Tuned XG Boost has a better precision, so I will choose the Tuned XG Boost as the best model for the bank to use, as it has a high recall and no overfitting, so it is likely to perform better in production."
   ]
  },
  {
   "cell_type": "markdown",
   "metadata": {},
   "source": [
    "## Chosen Model - Tuned XG Boost Classifier"
   ]
  },
  {
   "cell_type": "markdown",
   "metadata": {},
   "source": [
    "### Metrics"
   ]
  },
  {
   "cell_type": "code",
   "execution_count": 88,
   "metadata": {},
   "outputs": [
    {
     "name": "stdout",
     "output_type": "stream",
     "text": [
      "Accuracy on training set :  0.8914273074857016\n",
      "Accuracy on test set :  0.8797552344441167\n",
      "Recall on training set :  0.8860075634792004\n",
      "Recall on test set :  0.8254568367989918\n",
      "Precision on training set :  0.521131236097871\n",
      "Precision on test set :  0.49174174174174173\n"
     ]
    },
    {
     "data": {
      "image/png": "[encoded data removed]",
      "text/plain": [
       "<Figure size 648x432 with 2 Axes>"
      ]
     },
     "metadata": {},
     "output_type": "display_data"
    }
   ],
   "source": [
    "metric_xgb_tuned = get_metrics_score(xgb_tuned, X_train, X_test, y_train, y_test)\n",
    "make_confusion_matrix(xgb_tuned,y_test)"
   ]
  },
  {
   "cell_type": "markdown",
   "metadata": {},
   "source": [
    "#### Out of 1587 customers who bought the product, the model correctly identified 1294 customers, which is excellent. It also incorrectly identified 1491 other customers as potential buyers. This is not ideal, but considering the recall score and the number of correct buyers identified, this is totally fine."
   ]
  },
  {
   "cell_type": "markdown",
   "metadata": {},
   "source": [
    "### Feature Importance"
   ]
  },
  {
   "cell_type": "code",
   "execution_count": 90,
   "metadata": {},
   "outputs": [
    {
     "data": {
      "image/png": "[encoded data removed]",
      "text/plain": [
       "<Figure size 864x864 with 1 Axes>"
      ]
     },
     "metadata": {},
     "output_type": "display_data"
    }
   ],
   "source": [
    "feature_names = X_train.columns\n",
    "importances = xgb_tuned.feature_importances_\n",
    "indices = np.argsort(importances)\n",
    "\n",
    "plt.figure(figsize=(12,12))\n",
    "plt.title('Feature Importances')\n",
    "plt.barh(range(len(indices)), importances[indices], color='violet', align='center')\n",
    "plt.yticks(range(len(indices)), [feature_names[i] for i in indices])\n",
    "plt.xlabel('Relative Importance')\n",
    "plt.show()"
   ]
  },
  {
   "attachments": {},
   "cell_type": "markdown",
   "metadata": {},
   "source": [
    "#### Observations\n",
    "- As expected, the model considers the outcome of previous campaign as the most important. This was clear in the EDA, where more than 50% of previous buyers bought the term deposit as well. The only issue would be the lack of data since very few customers were actually contacted for a previous campaign.\n",
    "- The second most important feature is contact_unknown, followed by duration which I am not too sure what the reason is."
   ]
  },
  {
   "cell_type": "markdown",
   "metadata": {},
   "source": [
    "# Conclusion"
   ]
  },
  {
   "cell_type": "markdown",
   "metadata": {},
   "source": [
    "After running several models and tuning hyperparameters, the best model chosen was the tuned XG Boost model."
   ]
  },
  {
   "cell_type": "markdown",
   "metadata": {},
   "source": [
    "Some recommendations to the bank are:\n",
    "- Generally focus on customers that previously bought a product from a campaign.\n",
    "- Keep in mind that there will be a lot of customers recommended by the model who will not buy in reality, but the model will get as much potential buyers as possible.\n",
    "- The model can be improved by getting better data, such as average call duration instead of the last one only, how long a customer has been with the bank, etc.\n",
    "- It would also be useful to segment the customers into groups, and then products can be better tailored and marketed to the customers."
   ]
  }
 ],
 "metadata": {
  "kernelspec": {
   "display_name": "Python 3",
   "language": "python",
   "name": "python3"
  },
  "language_info": {
   "codemirror_mode": {
    "name": "ipython",
    "version": 3
   },
   "file_extension": ".py",
   "mimetype": "text/x-python",
   "name": "python",
   "nbconvert_exporter": "python",
   "pygments_lexer": "ipython3",
   "version": "3.8.3"
  }
 },
 "nbformat": 4,
 "nbformat_minor": 4
}
