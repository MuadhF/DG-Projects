{
 "cells": [
  {
   "cell_type": "code",
   "execution_count": 3,
   "metadata": {},
   "outputs": [],
   "source": [
    "import pandas as pd"
   ]
  },
  {
   "cell_type": "code",
   "execution_count": 4,
   "metadata": {},
   "outputs": [],
   "source": [
    "df = pd.read_csv(\"Datasets/Weather1.csv\")"
   ]
  },
  {
   "cell_type": "code",
   "execution_count": 5,
   "metadata": {},
   "outputs": [],
   "source": [
    "df[['Date','Time']] = df['StartTime(UTC)'].str.split(' ',expand=True)"
   ]
  },
  {
   "cell_type": "code",
   "execution_count": 6,
   "metadata": {},
   "outputs": [],
   "source": [
    "df = df[df['Date']<'2019-01-01']"
   ]
  },
  {
   "cell_type": "code",
   "execution_count": 7,
   "metadata": {},
   "outputs": [],
   "source": [
    "x = ['Atlanta', 'Austin', 'Boston', 'Chicago', 'Dallas',\n",
    "       'Denver', 'Los Angeles', 'Miami', 'Nashville',\n",
    "       'New York', 'Orange County', 'Phoenix', 'Pittsburgh',\n",
    "       'Sacramento', 'San Diego', 'Seattle', 'Silicon Valley',\n",
    "       'Tucson', 'Washington DC']"
   ]
  },
  {
   "cell_type": "code",
   "execution_count": 8,
   "metadata": {},
   "outputs": [],
   "source": [
    "new = df[df['City'].isin(x)]"
   ]
  },
  {
   "cell_type": "code",
   "execution_count": 9,
   "metadata": {},
   "outputs": [
    {
     "data": {
      "text/plain": [
       "array(['Pittsburgh', 'New York', 'San Diego', 'Dallas', 'Tucson',\n",
       "       'Nashville', 'Miami', 'Sacramento', 'Phoenix', 'Denver',\n",
       "       'Los Angeles', 'Seattle', 'Chicago', 'Atlanta', 'Austin'],\n",
       "      dtype=object)"
      ]
     },
     "execution_count": 9,
     "metadata": {},
     "output_type": "execute_result"
    }
   ],
   "source": [
    "new.City.unique()"
   ]
  },
  {
   "cell_type": "code",
   "execution_count": 63,
   "metadata": {
    "scrolled": true
   },
   "outputs": [
    {
     "name": "stderr",
     "output_type": "stream",
     "text": [
      "C:\\Users\\Muadh\\anaconda3\\lib\\site-packages\\pandas\\core\\frame.py:3990: SettingWithCopyWarning: \n",
      "A value is trying to be set on a copy of a slice from a DataFrame\n",
      "\n",
      "See the caveats in the documentation: https://pandas.pydata.org/pandas-docs/stable/user_guide/indexing.html#returning-a-view-versus-a-copy\n",
      "  return super().drop(\n"
     ]
    }
   ],
   "source": [
    "new.drop(labels=droprows, axis=0, inplace = True)"
   ]
  },
  {
   "cell_type": "code",
   "execution_count": 37,
   "metadata": {},
   "outputs": [
    {
     "data": {
      "text/plain": [
       "array(['Dallas', 'Roberts', 'Paulding', 'Miami-Dade'], dtype=object)"
      ]
     },
     "execution_count": 37,
     "metadata": {},
     "output_type": "execute_result"
    }
   ],
   "source": [
    "new[new['City'].isin(['Dallas', 'Miami'])]['City']"
   ]
  },
  {
   "cell_type": "code",
   "execution_count": 59,
   "metadata": {},
   "outputs": [
    {
     "name": "stderr",
     "output_type": "stream",
     "text": [
      "<ipython-input-59-4a4859fcfef8>:1: UserWarning: Boolean Series key will be reindexed to match DataFrame index.\n",
      "  droprows = np.array(new[new['City'].isin(['Dallas', 'Miami'])][new['County'].isin(['Roberts', 'Paulding'])].index)\n"
     ]
    }
   ],
   "source": [
    "droprows = np.array(new[new['City'].isin(['Dallas', 'Miami'])][new['County'].isin(['Roberts', 'Paulding'])].index)"
   ]
  },
  {
   "cell_type": "code",
   "execution_count": 76,
   "metadata": {},
   "outputs": [],
   "source": [
    "new.to_csv('Datasets/Weather.csv')"
   ]
  },
  {
   "cell_type": "code",
   "execution_count": 61,
   "metadata": {},
   "outputs": [
    {
     "data": {
      "text/plain": [
       "array([1481142, 1481143, 1481144, ..., 4724136, 4724137, 4724138],\n",
       "      dtype=int64)"
      ]
     },
     "execution_count": 61,
     "metadata": {},
     "output_type": "execute_result"
    }
   ],
   "source": [
    "droprows"
   ]
  },
  {
   "cell_type": "code",
   "execution_count": 58,
   "metadata": {},
   "outputs": [],
   "source": [
    "import numpy as np"
   ]
  },
  {
   "cell_type": "code",
   "execution_count": 64,
   "metadata": {},
   "outputs": [
    {
     "data": {
      "text/html": [
       "<div>\n",
       "<style scoped>\n",
       "    .dataframe tbody tr th:only-of-type {\n",
       "        vertical-align: middle;\n",
       "    }\n",
       "\n",
       "    .dataframe tbody tr th {\n",
       "        vertical-align: top;\n",
       "    }\n",
       "\n",
       "    .dataframe thead th {\n",
       "        text-align: right;\n",
       "    }\n",
       "</style>\n",
       "<table border=\"1\" class=\"dataframe\">\n",
       "  <thead>\n",
       "    <tr style=\"text-align: right;\">\n",
       "      <th></th>\n",
       "      <th>EventId</th>\n",
       "      <th>Type</th>\n",
       "      <th>Severity</th>\n",
       "      <th>StartTime(UTC)</th>\n",
       "      <th>EndTime(UTC)</th>\n",
       "      <th>TimeZone</th>\n",
       "      <th>AirportCode</th>\n",
       "      <th>LocationLat</th>\n",
       "      <th>LocationLng</th>\n",
       "      <th>City</th>\n",
       "      <th>County</th>\n",
       "      <th>State</th>\n",
       "      <th>ZipCode</th>\n",
       "      <th>Date</th>\n",
       "      <th>Time</th>\n",
       "    </tr>\n",
       "  </thead>\n",
       "  <tbody>\n",
       "    <tr>\n",
       "      <th>670501</th>\n",
       "      <td>W-670669</td>\n",
       "      <td>Snow</td>\n",
       "      <td>Light</td>\n",
       "      <td>2016-01-01 10:51:00</td>\n",
       "      <td>2016-01-01 12:19:00</td>\n",
       "      <td>US/Eastern</td>\n",
       "      <td>KPIT</td>\n",
       "      <td>40.4814</td>\n",
       "      <td>-80.2083</td>\n",
       "      <td>Pittsburgh</td>\n",
       "      <td>Allegheny</td>\n",
       "      <td>PA</td>\n",
       "      <td>15231.0</td>\n",
       "      <td>2016-01-01</td>\n",
       "      <td>10:51:00</td>\n",
       "    </tr>\n",
       "    <tr>\n",
       "      <th>670502</th>\n",
       "      <td>W-670670</td>\n",
       "      <td>Snow</td>\n",
       "      <td>Light</td>\n",
       "      <td>2016-01-01 13:51:00</td>\n",
       "      <td>2016-01-01 14:51:00</td>\n",
       "      <td>US/Eastern</td>\n",
       "      <td>KPIT</td>\n",
       "      <td>40.4814</td>\n",
       "      <td>-80.2083</td>\n",
       "      <td>Pittsburgh</td>\n",
       "      <td>Allegheny</td>\n",
       "      <td>PA</td>\n",
       "      <td>15231.0</td>\n",
       "      <td>2016-01-01</td>\n",
       "      <td>13:51:00</td>\n",
       "    </tr>\n",
       "    <tr>\n",
       "      <th>670503</th>\n",
       "      <td>W-670671</td>\n",
       "      <td>Snow</td>\n",
       "      <td>Light</td>\n",
       "      <td>2016-01-03 22:51:00</td>\n",
       "      <td>2016-01-04 08:51:00</td>\n",
       "      <td>US/Eastern</td>\n",
       "      <td>KPIT</td>\n",
       "      <td>40.4814</td>\n",
       "      <td>-80.2083</td>\n",
       "      <td>Pittsburgh</td>\n",
       "      <td>Allegheny</td>\n",
       "      <td>PA</td>\n",
       "      <td>15231.0</td>\n",
       "      <td>2016-01-03</td>\n",
       "      <td>22:51:00</td>\n",
       "    </tr>\n",
       "    <tr>\n",
       "      <th>670504</th>\n",
       "      <td>W-670672</td>\n",
       "      <td>Snow</td>\n",
       "      <td>Light</td>\n",
       "      <td>2016-01-04 11:51:00</td>\n",
       "      <td>2016-01-04 14:51:00</td>\n",
       "      <td>US/Eastern</td>\n",
       "      <td>KPIT</td>\n",
       "      <td>40.4814</td>\n",
       "      <td>-80.2083</td>\n",
       "      <td>Pittsburgh</td>\n",
       "      <td>Allegheny</td>\n",
       "      <td>PA</td>\n",
       "      <td>15231.0</td>\n",
       "      <td>2016-01-04</td>\n",
       "      <td>11:51:00</td>\n",
       "    </tr>\n",
       "    <tr>\n",
       "      <th>670505</th>\n",
       "      <td>W-670673</td>\n",
       "      <td>Rain</td>\n",
       "      <td>Light</td>\n",
       "      <td>2016-01-08 18:51:00</td>\n",
       "      <td>2016-01-08 23:13:00</td>\n",
       "      <td>US/Eastern</td>\n",
       "      <td>KPIT</td>\n",
       "      <td>40.4814</td>\n",
       "      <td>-80.2083</td>\n",
       "      <td>Pittsburgh</td>\n",
       "      <td>Allegheny</td>\n",
       "      <td>PA</td>\n",
       "      <td>15231.0</td>\n",
       "      <td>2016-01-08</td>\n",
       "      <td>18:51:00</td>\n",
       "    </tr>\n",
       "    <tr>\n",
       "      <th>...</th>\n",
       "      <td>...</td>\n",
       "      <td>...</td>\n",
       "      <td>...</td>\n",
       "      <td>...</td>\n",
       "      <td>...</td>\n",
       "      <td>...</td>\n",
       "      <td>...</td>\n",
       "      <td>...</td>\n",
       "      <td>...</td>\n",
       "      <td>...</td>\n",
       "      <td>...</td>\n",
       "      <td>...</td>\n",
       "      <td>...</td>\n",
       "      <td>...</td>\n",
       "      <td>...</td>\n",
       "    </tr>\n",
       "    <tr>\n",
       "      <th>5983543</th>\n",
       "      <td>W-5985401</td>\n",
       "      <td>Cold</td>\n",
       "      <td>Severe</td>\n",
       "      <td>2018-12-11 21:53:00</td>\n",
       "      <td>2018-12-11 22:53:00</td>\n",
       "      <td>US/Pacific</td>\n",
       "      <td>KU31</td>\n",
       "      <td>39.5000</td>\n",
       "      <td>-117.0833</td>\n",
       "      <td>Austin</td>\n",
       "      <td>Lander</td>\n",
       "      <td>NV</td>\n",
       "      <td>89310.0</td>\n",
       "      <td>2018-12-11</td>\n",
       "      <td>21:53:00</td>\n",
       "    </tr>\n",
       "    <tr>\n",
       "      <th>5983544</th>\n",
       "      <td>W-5985402</td>\n",
       "      <td>Cold</td>\n",
       "      <td>Severe</td>\n",
       "      <td>2018-12-17 21:53:00</td>\n",
       "      <td>2018-12-17 22:53:00</td>\n",
       "      <td>US/Pacific</td>\n",
       "      <td>KU31</td>\n",
       "      <td>39.5000</td>\n",
       "      <td>-117.0833</td>\n",
       "      <td>Austin</td>\n",
       "      <td>Lander</td>\n",
       "      <td>NV</td>\n",
       "      <td>89310.0</td>\n",
       "      <td>2018-12-17</td>\n",
       "      <td>21:53:00</td>\n",
       "    </tr>\n",
       "    <tr>\n",
       "      <th>5983545</th>\n",
       "      <td>W-5985403</td>\n",
       "      <td>Cold</td>\n",
       "      <td>Severe</td>\n",
       "      <td>2018-12-19 17:53:00</td>\n",
       "      <td>2018-12-19 18:53:00</td>\n",
       "      <td>US/Pacific</td>\n",
       "      <td>KU31</td>\n",
       "      <td>39.5000</td>\n",
       "      <td>-117.0833</td>\n",
       "      <td>Austin</td>\n",
       "      <td>Lander</td>\n",
       "      <td>NV</td>\n",
       "      <td>89310.0</td>\n",
       "      <td>2018-12-19</td>\n",
       "      <td>17:53:00</td>\n",
       "    </tr>\n",
       "    <tr>\n",
       "      <th>5983546</th>\n",
       "      <td>W-5985404</td>\n",
       "      <td>Cold</td>\n",
       "      <td>Severe</td>\n",
       "      <td>2018-12-20 06:53:00</td>\n",
       "      <td>2018-12-20 07:53:00</td>\n",
       "      <td>US/Pacific</td>\n",
       "      <td>KU31</td>\n",
       "      <td>39.5000</td>\n",
       "      <td>-117.0833</td>\n",
       "      <td>Austin</td>\n",
       "      <td>Lander</td>\n",
       "      <td>NV</td>\n",
       "      <td>89310.0</td>\n",
       "      <td>2018-12-20</td>\n",
       "      <td>06:53:00</td>\n",
       "    </tr>\n",
       "    <tr>\n",
       "      <th>5983547</th>\n",
       "      <td>W-5985405</td>\n",
       "      <td>Cold</td>\n",
       "      <td>Severe</td>\n",
       "      <td>2018-12-26 11:53:00</td>\n",
       "      <td>2018-12-26 12:53:00</td>\n",
       "      <td>US/Pacific</td>\n",
       "      <td>KU31</td>\n",
       "      <td>39.5000</td>\n",
       "      <td>-117.0833</td>\n",
       "      <td>Austin</td>\n",
       "      <td>Lander</td>\n",
       "      <td>NV</td>\n",
       "      <td>89310.0</td>\n",
       "      <td>2018-12-26</td>\n",
       "      <td>11:53:00</td>\n",
       "    </tr>\n",
       "  </tbody>\n",
       "</table>\n",
       "<p>47759 rows × 15 columns</p>\n",
       "</div>"
      ],
      "text/plain": [
       "           EventId  Type Severity       StartTime(UTC)         EndTime(UTC)  \\\n",
       "670501    W-670669  Snow    Light  2016-01-01 10:51:00  2016-01-01 12:19:00   \n",
       "670502    W-670670  Snow    Light  2016-01-01 13:51:00  2016-01-01 14:51:00   \n",
       "670503    W-670671  Snow    Light  2016-01-03 22:51:00  2016-01-04 08:51:00   \n",
       "670504    W-670672  Snow    Light  2016-01-04 11:51:00  2016-01-04 14:51:00   \n",
       "670505    W-670673  Rain    Light  2016-01-08 18:51:00  2016-01-08 23:13:00   \n",
       "...            ...   ...      ...                  ...                  ...   \n",
       "5983543  W-5985401  Cold   Severe  2018-12-11 21:53:00  2018-12-11 22:53:00   \n",
       "5983544  W-5985402  Cold   Severe  2018-12-17 21:53:00  2018-12-17 22:53:00   \n",
       "5983545  W-5985403  Cold   Severe  2018-12-19 17:53:00  2018-12-19 18:53:00   \n",
       "5983546  W-5985404  Cold   Severe  2018-12-20 06:53:00  2018-12-20 07:53:00   \n",
       "5983547  W-5985405  Cold   Severe  2018-12-26 11:53:00  2018-12-26 12:53:00   \n",
       "\n",
       "           TimeZone AirportCode  LocationLat  LocationLng        City  \\\n",
       "670501   US/Eastern        KPIT      40.4814     -80.2083  Pittsburgh   \n",
       "670502   US/Eastern        KPIT      40.4814     -80.2083  Pittsburgh   \n",
       "670503   US/Eastern        KPIT      40.4814     -80.2083  Pittsburgh   \n",
       "670504   US/Eastern        KPIT      40.4814     -80.2083  Pittsburgh   \n",
       "670505   US/Eastern        KPIT      40.4814     -80.2083  Pittsburgh   \n",
       "...             ...         ...          ...          ...         ...   \n",
       "5983543  US/Pacific        KU31      39.5000    -117.0833      Austin   \n",
       "5983544  US/Pacific        KU31      39.5000    -117.0833      Austin   \n",
       "5983545  US/Pacific        KU31      39.5000    -117.0833      Austin   \n",
       "5983546  US/Pacific        KU31      39.5000    -117.0833      Austin   \n",
       "5983547  US/Pacific        KU31      39.5000    -117.0833      Austin   \n",
       "\n",
       "            County State  ZipCode        Date      Time  \n",
       "670501   Allegheny    PA  15231.0  2016-01-01  10:51:00  \n",
       "670502   Allegheny    PA  15231.0  2016-01-01  13:51:00  \n",
       "670503   Allegheny    PA  15231.0  2016-01-03  22:51:00  \n",
       "670504   Allegheny    PA  15231.0  2016-01-04  11:51:00  \n",
       "670505   Allegheny    PA  15231.0  2016-01-08  18:51:00  \n",
       "...            ...   ...      ...         ...       ...  \n",
       "5983543     Lander    NV  89310.0  2018-12-11  21:53:00  \n",
       "5983544     Lander    NV  89310.0  2018-12-17  21:53:00  \n",
       "5983545     Lander    NV  89310.0  2018-12-19  17:53:00  \n",
       "5983546     Lander    NV  89310.0  2018-12-20  06:53:00  \n",
       "5983547     Lander    NV  89310.0  2018-12-26  11:53:00  \n",
       "\n",
       "[47759 rows x 15 columns]"
      ]
     },
     "execution_count": 64,
     "metadata": {},
     "output_type": "execute_result"
    }
   ],
   "source": [
    "new"
   ]
  },
  {
   "cell_type": "code",
   "execution_count": 74,
   "metadata": {},
   "outputs": [
    {
     "data": {
      "text/html": [
       "<div>\n",
       "<style scoped>\n",
       "    .dataframe tbody tr th:only-of-type {\n",
       "        vertical-align: middle;\n",
       "    }\n",
       "\n",
       "    .dataframe tbody tr th {\n",
       "        vertical-align: top;\n",
       "    }\n",
       "\n",
       "    .dataframe thead th {\n",
       "        text-align: right;\n",
       "    }\n",
       "</style>\n",
       "<table border=\"1\" class=\"dataframe\">\n",
       "  <thead>\n",
       "    <tr style=\"text-align: right;\">\n",
       "      <th></th>\n",
       "      <th>EventId</th>\n",
       "      <th>Type</th>\n",
       "      <th>Severity</th>\n",
       "      <th>StartTime(UTC)</th>\n",
       "      <th>EndTime(UTC)</th>\n",
       "      <th>TimeZone</th>\n",
       "      <th>AirportCode</th>\n",
       "      <th>LocationLat</th>\n",
       "      <th>LocationLng</th>\n",
       "      <th>City</th>\n",
       "      <th>County</th>\n",
       "      <th>State</th>\n",
       "      <th>ZipCode</th>\n",
       "      <th>Date</th>\n",
       "      <th>Time</th>\n",
       "    </tr>\n",
       "  </thead>\n",
       "  <tbody>\n",
       "  </tbody>\n",
       "</table>\n",
       "</div>"
      ],
      "text/plain": [
       "Empty DataFrame\n",
       "Columns: [EventId, Type, Severity, StartTime(UTC), EndTime(UTC), TimeZone, AirportCode, LocationLat, LocationLng, City, County, State, ZipCode, Date, Time]\n",
       "Index: []"
      ]
     },
     "execution_count": 74,
     "metadata": {},
     "output_type": "execute_result"
    }
   ],
   "source": [
    "new[new['County']=='Paulding']"
   ]
  },
  {
   "cell_type": "code",
   "execution_count": 75,
   "metadata": {},
   "outputs": [
    {
     "data": {
      "text/plain": [
       "(47759, 15)"
      ]
     },
     "execution_count": 75,
     "metadata": {},
     "output_type": "execute_result"
    }
   ],
   "source": [
    "new.shape"
   ]
  },
  {
   "cell_type": "code",
   "execution_count": null,
   "metadata": {},
   "outputs": [],
   "source": [
    "new"
   ]
  }
 ],
 "metadata": {
  "kernelspec": {
   "display_name": "Python 3",
   "language": "python",
   "name": "python3"
  },
  "language_info": {
   "codemirror_mode": {
    "name": "ipython",
    "version": 3
   },
   "file_extension": ".py",
   "mimetype": "text/x-python",
   "name": "python",
   "nbconvert_exporter": "python",
   "pygments_lexer": "ipython3",
   "version": "3.8.3"
  }
 },
 "nbformat": 4,
 "nbformat_minor": 4
}
