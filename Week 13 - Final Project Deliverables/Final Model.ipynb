{
 "cells": [
  {
   "cell_type": "markdown",
   "metadata": {},
   "source": [
    "# Data Information"
   ]
  },
  {
   "cell_type": "markdown",
   "metadata": {},
   "source": [
    "### Attribute information:\n",
    "\n",
    "Input variables:\n",
    "- age (numeric)\n",
    "- job : type of job (categorical: \"admin.\",\"unknown\",\"unemployed\",\"management\",\"housemaid\",\"entrepreneur\",\"student\",\"blue-collar\",\"self-employed\",\"retired\",\"technician\",\"services\") \n",
    "- marital : marital status (categorical: \"married\",\"divorced\",\"single\"; note: \"divorced\" means divorced or widowed)\n",
    "- education (categorical: \"unknown\",\"secondary\",\"primary\",\"tertiary\")\n",
    "- default: has credit in default? (binary: \"yes\",\"no\")\n",
    "- balance: average yearly balance, in euros (numeric) \n",
    "- housing: has housing loan? (binary: \"yes\",\"no\")\n",
    "- loan: has personal loan? (binary: \"yes\",\"no\")\n",
    "- contact: contact communication type (categorical: \"unknown\",\"telephone\",\"cellular\")\n",
    "- day: last contact day of the month (numeric)\n",
    "- month: last contact month of year (categorical: \"jan\", \"feb\", \"mar\", ..., \"nov\", \"dec\")\n",
    "- duration: last contact duration, in seconds (numeric)\n",
    "- campaign: number of contacts performed during this campaign and for this client (numeric, includes last contact)\n",
    "- pdays: number of days that passed by after the client was last contacted from a previous campaign (numeric, -1 means client was not previously contacted)\n",
    "- previous: number of contacts performed before this campaign and for this client (numeric)\n",
    "- poutcome: outcome of the previous marketing campaign (categorical: \"unknown\",\"other\",\"failure\",\"success\")\n",
    "   \n",
    "Output variable (desired target):\n",
    "- y: has the client subscribed a term deposit? (binary: \"yes\",\"no\")"
   ]
  },
  {
   "cell_type": "markdown",
   "metadata": {},
   "source": [
    "# Importing Libraries and Dataset"
   ]
  },
  {
   "cell_type": "code",
   "execution_count": 16,
   "metadata": {},
   "outputs": [],
   "source": [
    "import numpy as np\n",
    "import pandas as pd\n",
    "\n",
    "from sklearn.model_selection import train_test_split, StratifiedKFold, cross_val_score\n",
    "from sklearn.metrics import confusion_matrix, classification_report\n",
    "from sklearn.metrics import accuracy_score,precision_score,recall_score,f1_score\n",
    "from sklearn import metrics\n",
    "from sklearn.model_selection import RandomizedSearchCV\n",
    "import scipy.stats as stats\n",
    "from xgboost import XGBClassifier\n",
    "import matplotlib.pyplot as plt\n",
    "import seaborn as sns\n",
    "\n",
    "import warnings\n",
    "warnings.filterwarnings(\"ignore\")"
   ]
  },
  {
   "cell_type": "code",
   "execution_count": 2,
   "metadata": {},
   "outputs": [],
   "source": [
    "df = pd.read_csv(\"processed-data.csv\")"
   ]
  },
  {
   "cell_type": "markdown",
   "metadata": {},
   "source": [
    "# Preprocessing"
   ]
  },
  {
   "cell_type": "markdown",
   "metadata": {},
   "source": [
    "### Converting to categorical"
   ]
  },
  {
   "cell_type": "code",
   "execution_count": 3,
   "metadata": {},
   "outputs": [],
   "source": [
    "# Converting all object variables to categorical variables\n",
    "\n",
    "cols = ['job', 'marital', 'education', 'default', 'housing',\n",
    "       'loan', 'contact', 'month', 'poutcome', 'y']\n",
    "\n",
    "for col in cols:\n",
    "    df[col] = df[col].astype('category')"
   ]
  },
  {
   "cell_type": "markdown",
   "metadata": {},
   "source": [
    "### Changing y to binary"
   ]
  },
  {
   "cell_type": "code",
   "execution_count": 4,
   "metadata": {},
   "outputs": [],
   "source": [
    "# changing y to binary - 0 and 1\n",
    "ymap = {'no': 0, 'yes': 1}\n",
    "\n",
    "df.replace({'y':ymap}, inplace = True)"
   ]
  },
  {
   "cell_type": "markdown",
   "metadata": {},
   "source": [
    "### Dummy variables"
   ]
  },
  {
   "cell_type": "code",
   "execution_count": 5,
   "metadata": {},
   "outputs": [],
   "source": [
    "X = df.drop(['y'], axis=1)\n",
    "y = df['y']\n",
    "\n",
    "X = pd.get_dummies(X, columns=['job', 'marital', 'education', 'default', 'housing',\n",
    "       'loan', 'contact', 'month', 'poutcome'], drop_first=True)"
   ]
  },
  {
   "cell_type": "markdown",
   "metadata": {},
   "source": [
    "### Splitting the dataset"
   ]
  },
  {
   "cell_type": "code",
   "execution_count": 6,
   "metadata": {},
   "outputs": [],
   "source": [
    "#Splitting data in train and test sets\n",
    "X_train, X_test, y_train, y_test = train_test_split(X, y, test_size=0.30, random_state = 1, stratify=y)"
   ]
  },
  {
   "cell_type": "code",
   "execution_count": 7,
   "metadata": {},
   "outputs": [
    {
     "data": {
      "text/plain": [
       "0    0.883022\n",
       "1    0.116978\n",
       "Name: y, dtype: float64"
      ]
     },
     "execution_count": 7,
     "metadata": {},
     "output_type": "execute_result"
    }
   ],
   "source": [
    "y_train.value_counts(1)"
   ]
  },
  {
   "cell_type": "code",
   "execution_count": 8,
   "metadata": {},
   "outputs": [
    {
     "data": {
      "text/plain": [
       "0    0.882999\n",
       "1    0.117001\n",
       "Name: y, dtype: float64"
      ]
     },
     "execution_count": 8,
     "metadata": {},
     "output_type": "execute_result"
    }
   ],
   "source": [
    "y_test.value_counts(1)"
   ]
  },
  {
   "cell_type": "markdown",
   "metadata": {},
   "source": [
    "# Model Evaluation Criteria"
   ]
  },
  {
   "cell_type": "markdown",
   "metadata": {},
   "source": [
    "#### The incorrect predictions are the following:\n",
    "- Customer predicted to buy, but actually doesn't buy (Type I).\n",
    "- Customer predicted to not buy, but actually buys (Type II).\n",
    "<br><br>\n",
    "The more costly error is the type II error, as the bank would not market the product to this customer, and fail to make a sale because the customer would have in reality bought the product.<br><br>\n",
    "Type I errors will make the bank focus on customers that would not buy the product, so it is not too much of a cost except for the time and effort put into these customers."
   ]
  },
  {
   "cell_type": "markdown",
   "metadata": {},
   "source": [
    "#### Therefore, we will need to identify as much potential customers as possible, so recall will be the ideal metric to use for evaluation."
   ]
  },
  {
   "cell_type": "markdown",
   "metadata": {},
   "source": [
    "#### Note: I will be using 0.05 as the value of alpha"
   ]
  },
  {
   "cell_type": "markdown",
   "metadata": {},
   "source": [
    "### Creating functions to calculate metrics"
   ]
  },
  {
   "cell_type": "code",
   "execution_count": 9,
   "metadata": {},
   "outputs": [],
   "source": [
    "##  Function to calculate different metric scores of the model - Accuracy, Recall and Precision\n",
    "def get_metrics_score(model,train,test,train_y,test_y,flag=True):\n",
    "    '''\n",
    "    model : classifier to predict values of X\n",
    "\n",
    "    '''\n",
    "    # defining an empty list to store train and test results\n",
    "    \n",
    "    score_list=[] \n",
    "    \n",
    "    pred_train = model.predict(train)\n",
    "    pred_test = model.predict(test)\n",
    "    \n",
    "    pred_train = np.round(pred_train)\n",
    "    pred_test = np.round(pred_test)\n",
    "    \n",
    "    train_acc = accuracy_score(pred_train,train_y)\n",
    "    test_acc = accuracy_score(pred_test,test_y)\n",
    "    \n",
    "    train_recall = recall_score(train_y,pred_train)\n",
    "    test_recall = recall_score(test_y,pred_test)\n",
    "    \n",
    "    train_precision = precision_score(train_y,pred_train)\n",
    "    test_precision = precision_score(test_y,pred_test)\n",
    "    \n",
    "    score_list.extend((train_acc,test_acc,train_recall,test_recall,train_precision,test_precision))\n",
    "        \n",
    "   # If the flag is set to True then only the following print statements will be dispayed. The default value is set to True.\n",
    "    \n",
    "    if flag == True: \n",
    "        print(\"Accuracy on training set : \",accuracy_score(pred_train,train_y))\n",
    "        print(\"Accuracy on test set : \",accuracy_score(pred_test,test_y))\n",
    "        print(\"Recall on training set : \",recall_score(train_y,pred_train))\n",
    "        print(\"Recall on test set : \",recall_score(test_y,pred_test))\n",
    "        print(\"Precision on training set : \",precision_score(train_y,pred_train))\n",
    "        print(\"Precision on test set : \",precision_score(test_y,pred_test))\n",
    "    return score_list # returning the list with train and test scores"
   ]
  },
  {
   "cell_type": "code",
   "execution_count": 10,
   "metadata": {},
   "outputs": [],
   "source": [
    "## Function to create confusion matrix\n",
    "def make_confusion_matrix(model,y_actual,labels=[1, 0]):\n",
    "    '''\n",
    "    model : classifier to predict values of X\n",
    "    y_actual : ground truth  \n",
    "    \n",
    "    '''\n",
    "    y_predict = model.predict(X_test)\n",
    "    cm=metrics.confusion_matrix( y_actual, y_predict, labels=[0, 1])\n",
    "    df_cm = pd.DataFrame(cm, index = [i for i in [\"Actual - No\",\"Actual - Yes\"]],\n",
    "                  columns = [i for i in ['Predicted - No','Predicted - Yes']])\n",
    "    group_counts = [\"{0:0.0f}\".format(value) for value in\n",
    "                cm.flatten()]\n",
    "    group_percentages = [\"{0:.2%}\".format(value) for value in\n",
    "                         cm.flatten()/np.sum(cm)]\n",
    "    labels = [f\"{v1}\\n{v2}\" for v1, v2 in\n",
    "              zip(group_counts,group_percentages)]\n",
    "    labels = np.asarray(labels).reshape(2,2)\n",
    "    plt.figure(figsize = (9,6))\n",
    "    sns.heatmap(df_cm, annot=labels,fmt='')\n",
    "    plt.ylabel('True label')\n",
    "    plt.xlabel('Predicted label')"
   ]
  },
  {
   "cell_type": "markdown",
   "metadata": {},
   "source": [
    "## Tuned XG Boost"
   ]
  },
  {
   "cell_type": "code",
   "execution_count": 11,
   "metadata": {},
   "outputs": [
    {
     "data": {
      "text/plain": [
       "XGBClassifier(base_score=0.5, booster='gbtree', colsample_bylevel=0.9,\n",
       "              colsample_bynode=1, colsample_bytree=1, eval_metric='logloss',\n",
       "              gamma=0, gpu_id=-1, importance_type='gain',\n",
       "              interaction_constraints='', learning_rate=0.1, max_delta_step=0,\n",
       "              max_depth=6, min_child_weight=1, missing=nan,\n",
       "              monotone_constraints='()', n_estimators=70, n_jobs=4,\n",
       "              num_parallel_tree=1, random_state=1, reg_alpha=0, reg_lambda=1,\n",
       "              scale_pos_weight=5, subsample=0.9, tree_method='exact',\n",
       "              validate_parameters=1, verbosity=None)"
      ]
     },
     "execution_count": 11,
     "metadata": {},
     "output_type": "execute_result"
    }
   ],
   "source": [
    "# Choose the type of classifier. \n",
    "xgb_tuned = XGBClassifier(random_state=1, eval_metric='logloss')\n",
    "\n",
    "# Grid of parameters to choose from\n",
    "parameters = {\n",
    "    \"n_estimators\": np.arange(10,80,20),\n",
    "    \"scale_pos_weight\":[0,1,2,5],\n",
    "    \"subsample\":[0.5,0.7,0.9,1],\n",
    "    \"learning_rate\":[0.01,0.1,0.2,0.05],\n",
    "    \"gamma\":[0,1,3],\n",
    "    \"colsample_bytree\":[0.5,0.7,0.9,1],\n",
    "    \"colsample_bylevel\":[0.5,0.7,0.9,1]\n",
    "}\n",
    "\n",
    "# Type of scoring used to compare parameter combinations\n",
    "scorer = metrics.make_scorer(metrics.recall_score)\n",
    "\n",
    "# Run the grid search\n",
    "grid_obj = RandomizedSearchCV(xgb_tuned, parameters,scoring=scorer, random_state=9)\n",
    "grid_obj = grid_obj.fit(X_train, y_train)\n",
    "\n",
    "# Set the clf to the best combination of parameters\n",
    "xgb_tuned = grid_obj.best_estimator_\n",
    "\n",
    "# Fit the best algorithm to the data.\n",
    "xgb_tuned.fit(X_train, y_train)"
   ]
  },
  {
   "cell_type": "markdown",
   "metadata": {},
   "source": [
    "#### This is a fantastic result in terms of recall. The recall has drastically improved to 0.81 on test set. The precision is low at 0.46, but it is affordable since the main aim is to maximise sales, so if some effort is wasted on customers that will not buy, that is ok."
   ]
  },
  {
   "cell_type": "markdown",
   "metadata": {},
   "source": [
    "### Metrics"
   ]
  },
  {
   "cell_type": "code",
   "execution_count": 17,
   "metadata": {},
   "outputs": [
    {
     "name": "stdout",
     "output_type": "stream",
     "text": [
      "Accuracy on training set :  0.8914273074857016\n",
      "Accuracy on test set :  0.8797552344441167\n",
      "Recall on training set :  0.8860075634792004\n",
      "Recall on test set :  0.8254568367989918\n",
      "Precision on training set :  0.521131236097871\n",
      "Precision on test set :  0.49174174174174173\n"
     ]
    },
    {
     "data": {
      "image/png": "[encoded data removed]",
      "text/plain": [
       "<Figure size 648x432 with 2 Axes>"
      ]
     },
     "metadata": {
      "needs_background": "light"
     },
     "output_type": "display_data"
    }
   ],
   "source": [
    "metric_xbc_tuned = get_metrics_score(xgb_tuned, X_train, X_test, y_train, y_test)\n",
    "make_confusion_matrix(xgb_tuned,y_test)"
   ]
  },
  {
   "cell_type": "markdown",
   "metadata": {},
   "source": [
    "#### Out of 1587 customers who bought the product, the model correctly identified 1310 customers, which is excellent. It also incorrectly identified 1354 other customers as potential buyers. This is not ideal, but considering the recall score and the number of correct buyers identified, this is totally fine."
   ]
  },
  {
   "cell_type": "markdown",
   "metadata": {},
   "source": [
    "### Feature Importance"
   ]
  },
  {
   "cell_type": "code",
   "execution_count": 18,
   "metadata": {},
   "outputs": [
    {
     "data": {
      "image/png": "[encoded data removed]",
      "text/plain": [
       "<Figure size 864x864 with 1 Axes>"
      ]
     },
     "metadata": {
      "needs_background": "light"
     },
     "output_type": "display_data"
    }
   ],
   "source": [
    "feature_names = X_train.columns\n",
    "importances = xgb_tuned.feature_importances_\n",
    "indices = np.argsort(importances)\n",
    "\n",
    "plt.figure(figsize=(12,12))\n",
    "plt.title('Feature Importances')\n",
    "plt.barh(range(len(indices)), importances[indices], color='violet', align='center')\n",
    "plt.yticks(range(len(indices)), [feature_names[i] for i in indices])\n",
    "plt.xlabel('Relative Importance')\n",
    "plt.show()"
   ]
  },
  {
   "attachments": {},
   "cell_type": "markdown",
   "metadata": {},
   "source": [
    "#### Observations\n",
    "- As expected, the model considers the outcome of previous campaign as the most important. This was clear in the EDA, where more than 50% of previous buyers bought the term deposit as well. The only issue would be the lack of data since very few customers were actually contacted for a previous campaign.\n",
    "- The second most important feature is contact_unknown, followed by duration which I am not too sure what the reason is."
   ]
  },
  {
   "cell_type": "markdown",
   "metadata": {},
   "source": [
    "# Conclusion"
   ]
  },
  {
   "cell_type": "markdown",
   "metadata": {},
   "source": [
    "After running several models and tuning hyperparameters, the best model chosen was the tuned XG Boost model."
   ]
  },
  {
   "cell_type": "markdown",
   "metadata": {},
   "source": [
    "Some recommendations to the bank are:\n",
    "- Generally focus on customers that previously bought a product from a campaign.\n",
    "- Keep in mind that there will be a lot of customers recommended by the model who will not buy in reality, but the model will get as much potential buyers as possible.\n",
    "- The model can be improved by getting better data, such as average call duration instead of the last one only, how long a customer has been with the bank, etc.\n",
    "- It would also be useful to segment the customers into groups, and then products can be better tailored and marketed to the customers."
   ]
  }
 ],
 "metadata": {
  "kernelspec": {
   "display_name": "Python 3",
   "language": "python",
   "name": "python3"
  },
  "language_info": {
   "codemirror_mode": {
    "name": "ipython",
    "version": 3
   },
   "file_extension": ".py",
   "mimetype": "text/x-python",
   "name": "python",
   "nbconvert_exporter": "python",
   "pygments_lexer": "ipython3",
   "version": "3.8.3"
  }
 },
 "nbformat": 4,
 "nbformat_minor": 4
}
